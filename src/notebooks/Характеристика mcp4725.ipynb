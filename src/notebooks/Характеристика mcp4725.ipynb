{
 "cells": [
  {
   "cell_type": "code",
   "execution_count": 29,
   "id": "b852112e",
   "metadata": {},
   "outputs": [],
   "source": [
    "import numpy as np\n",
    "import pandas as pd\n",
    "import matplotlib.pyplot as plt\n",
    "import math\n",
    "# patching\n",
    "import sys\n",
    "from pathlib import Path\n",
    "sys.path.insert(0, str(Path.cwd().parent))\n",
    "\n",
    "from utils.utils import find_nearest"
   ]
  },
  {
   "cell_type": "code",
   "execution_count": 2,
   "id": "40d02ba5",
   "metadata": {},
   "outputs": [],
   "source": [
    "path = Path(\".\").resolve().parent.parent / \"data\" / \"sensors_characteristics\""
   ]
  },
  {
   "cell_type": "code",
   "execution_count": 3,
   "id": "e42a8dfd",
   "metadata": {},
   "outputs": [
    {
     "data": {
      "text/plain": [
       "WindowsPath('C:/Users/fmark/PycharmProjects/dissertation/data/sensors_characteristics')"
      ]
     },
     "execution_count": 3,
     "metadata": {},
     "output_type": "execute_result"
    }
   ],
   "source": [
    "path"
   ]
  },
  {
   "cell_type": "code",
   "execution_count": 4,
   "id": "9c30464e",
   "metadata": {},
   "outputs": [],
   "source": [
    "reference_voltage = 3.3\n",
    "steps = 2**12"
   ]
  },
  {
   "cell_type": "code",
   "execution_count": 5,
   "id": "ff71197f",
   "metadata": {},
   "outputs": [
    {
     "data": {
      "text/plain": [
       "4096"
      ]
     },
     "execution_count": 5,
     "metadata": {},
     "output_type": "execute_result"
    }
   ],
   "source": [
    "steps"
   ]
  },
  {
   "cell_type": "code",
   "execution_count": 6,
   "id": "6128aefa",
   "metadata": {},
   "outputs": [],
   "source": [
    "step = reference_voltage / steps"
   ]
  },
  {
   "cell_type": "code",
   "execution_count": 7,
   "id": "fdf54737",
   "metadata": {},
   "outputs": [
    {
     "data": {
      "text/plain": [
       "0.0008056640625"
      ]
     },
     "execution_count": 7,
     "metadata": {},
     "output_type": "execute_result"
    }
   ],
   "source": [
    "step"
   ]
  },
  {
   "cell_type": "code",
   "execution_count": 8,
   "id": "b79f1ed2",
   "metadata": {},
   "outputs": [],
   "source": [
    "codes = [i for i in range(steps)]\n",
    "voltages = [(code / steps) * reference_voltage + step for code in codes]\n",
    "df_mcp_4725 = pd.DataFrame({\"code\": codes, \"voltage\": voltages})"
   ]
  },
  {
   "cell_type": "code",
   "execution_count": 9,
   "id": "4c34f112",
   "metadata": {},
   "outputs": [
    {
     "data": {
      "text/html": [
       "<div>\n",
       "<style scoped>\n",
       "    .dataframe tbody tr th:only-of-type {\n",
       "        vertical-align: middle;\n",
       "    }\n",
       "\n",
       "    .dataframe tbody tr th {\n",
       "        vertical-align: top;\n",
       "    }\n",
       "\n",
       "    .dataframe thead th {\n",
       "        text-align: right;\n",
       "    }\n",
       "</style>\n",
       "<table border=\"1\" class=\"dataframe\">\n",
       "  <thead>\n",
       "    <tr style=\"text-align: right;\">\n",
       "      <th></th>\n",
       "      <th>code</th>\n",
       "      <th>voltage</th>\n",
       "    </tr>\n",
       "  </thead>\n",
       "  <tbody>\n",
       "    <tr>\n",
       "      <th>0</th>\n",
       "      <td>0</td>\n",
       "      <td>0.000806</td>\n",
       "    </tr>\n",
       "    <tr>\n",
       "      <th>1</th>\n",
       "      <td>1</td>\n",
       "      <td>0.001611</td>\n",
       "    </tr>\n",
       "    <tr>\n",
       "      <th>2</th>\n",
       "      <td>2</td>\n",
       "      <td>0.002417</td>\n",
       "    </tr>\n",
       "    <tr>\n",
       "      <th>3</th>\n",
       "      <td>3</td>\n",
       "      <td>0.003223</td>\n",
       "    </tr>\n",
       "    <tr>\n",
       "      <th>4</th>\n",
       "      <td>4</td>\n",
       "      <td>0.004028</td>\n",
       "    </tr>\n",
       "  </tbody>\n",
       "</table>\n",
       "</div>"
      ],
      "text/plain": [
       "   code   voltage\n",
       "0     0  0.000806\n",
       "1     1  0.001611\n",
       "2     2  0.002417\n",
       "3     3  0.003223\n",
       "4     4  0.004028"
      ]
     },
     "execution_count": 9,
     "metadata": {},
     "output_type": "execute_result"
    }
   ],
   "source": [
    "df_mcp_4725.head()"
   ]
  },
  {
   "cell_type": "code",
   "execution_count": 10,
   "id": "35c7443c",
   "metadata": {},
   "outputs": [],
   "source": [
    "df_mcp_4725[\"divided_voltage\"] = df_mcp_4725[\"voltage\"] / 100"
   ]
  },
  {
   "cell_type": "code",
   "execution_count": 11,
   "id": "fa828afe",
   "metadata": {},
   "outputs": [],
   "source": [
    "df_mcp_4725[\"divided_voltage (mV)\"] = df_mcp_4725[\"divided_voltage\"] * 1000"
   ]
  },
  {
   "cell_type": "code",
   "execution_count": 12,
   "id": "3b76312d",
   "metadata": {},
   "outputs": [
    {
     "data": {
      "text/html": [
       "<div>\n",
       "<style scoped>\n",
       "    .dataframe tbody tr th:only-of-type {\n",
       "        vertical-align: middle;\n",
       "    }\n",
       "\n",
       "    .dataframe tbody tr th {\n",
       "        vertical-align: top;\n",
       "    }\n",
       "\n",
       "    .dataframe thead th {\n",
       "        text-align: right;\n",
       "    }\n",
       "</style>\n",
       "<table border=\"1\" class=\"dataframe\">\n",
       "  <thead>\n",
       "    <tr style=\"text-align: right;\">\n",
       "      <th></th>\n",
       "      <th>code</th>\n",
       "      <th>voltage</th>\n",
       "      <th>divided_voltage</th>\n",
       "      <th>divided_voltage (mV)</th>\n",
       "    </tr>\n",
       "  </thead>\n",
       "  <tbody>\n",
       "    <tr>\n",
       "      <th>0</th>\n",
       "      <td>0</td>\n",
       "      <td>0.000806</td>\n",
       "      <td>0.000008</td>\n",
       "      <td>0.008057</td>\n",
       "    </tr>\n",
       "    <tr>\n",
       "      <th>1</th>\n",
       "      <td>1</td>\n",
       "      <td>0.001611</td>\n",
       "      <td>0.000016</td>\n",
       "      <td>0.016113</td>\n",
       "    </tr>\n",
       "    <tr>\n",
       "      <th>2</th>\n",
       "      <td>2</td>\n",
       "      <td>0.002417</td>\n",
       "      <td>0.000024</td>\n",
       "      <td>0.024170</td>\n",
       "    </tr>\n",
       "    <tr>\n",
       "      <th>3</th>\n",
       "      <td>3</td>\n",
       "      <td>0.003223</td>\n",
       "      <td>0.000032</td>\n",
       "      <td>0.032227</td>\n",
       "    </tr>\n",
       "    <tr>\n",
       "      <th>4</th>\n",
       "      <td>4</td>\n",
       "      <td>0.004028</td>\n",
       "      <td>0.000040</td>\n",
       "      <td>0.040283</td>\n",
       "    </tr>\n",
       "    <tr>\n",
       "      <th>...</th>\n",
       "      <td>...</td>\n",
       "      <td>...</td>\n",
       "      <td>...</td>\n",
       "      <td>...</td>\n",
       "    </tr>\n",
       "    <tr>\n",
       "      <th>4091</th>\n",
       "      <td>4091</td>\n",
       "      <td>3.296777</td>\n",
       "      <td>0.032968</td>\n",
       "      <td>32.967773</td>\n",
       "    </tr>\n",
       "    <tr>\n",
       "      <th>4092</th>\n",
       "      <td>4092</td>\n",
       "      <td>3.297583</td>\n",
       "      <td>0.032976</td>\n",
       "      <td>32.975830</td>\n",
       "    </tr>\n",
       "    <tr>\n",
       "      <th>4093</th>\n",
       "      <td>4093</td>\n",
       "      <td>3.298389</td>\n",
       "      <td>0.032984</td>\n",
       "      <td>32.983887</td>\n",
       "    </tr>\n",
       "    <tr>\n",
       "      <th>4094</th>\n",
       "      <td>4094</td>\n",
       "      <td>3.299194</td>\n",
       "      <td>0.032992</td>\n",
       "      <td>32.991943</td>\n",
       "    </tr>\n",
       "    <tr>\n",
       "      <th>4095</th>\n",
       "      <td>4095</td>\n",
       "      <td>3.300000</td>\n",
       "      <td>0.033000</td>\n",
       "      <td>33.000000</td>\n",
       "    </tr>\n",
       "  </tbody>\n",
       "</table>\n",
       "<p>4096 rows × 4 columns</p>\n",
       "</div>"
      ],
      "text/plain": [
       "      code   voltage  divided_voltage  divided_voltage (mV)\n",
       "0        0  0.000806         0.000008              0.008057\n",
       "1        1  0.001611         0.000016              0.016113\n",
       "2        2  0.002417         0.000024              0.024170\n",
       "3        3  0.003223         0.000032              0.032227\n",
       "4        4  0.004028         0.000040              0.040283\n",
       "...    ...       ...              ...                   ...\n",
       "4091  4091  3.296777         0.032968             32.967773\n",
       "4092  4092  3.297583         0.032976             32.975830\n",
       "4093  4093  3.298389         0.032984             32.983887\n",
       "4094  4094  3.299194         0.032992             32.991943\n",
       "4095  4095  3.300000         0.033000             33.000000\n",
       "\n",
       "[4096 rows x 4 columns]"
      ]
     },
     "execution_count": 12,
     "metadata": {},
     "output_type": "execute_result"
    }
   ],
   "source": [
    "df_mcp_4725"
   ]
  },
  {
   "cell_type": "code",
   "execution_count": 13,
   "id": "03b9b4a5",
   "metadata": {},
   "outputs": [],
   "source": [
    "sensor_characteristics = pd.read_csv(path / \"ТЖК (J).csv\",index_col=\"temp\")"
   ]
  },
  {
   "cell_type": "code",
   "execution_count": 15,
   "id": "36d1f7fc",
   "metadata": {},
   "outputs": [
    {
     "data": {
      "text/html": [
       "<div>\n",
       "<style scoped>\n",
       "    .dataframe tbody tr th:only-of-type {\n",
       "        vertical-align: middle;\n",
       "    }\n",
       "\n",
       "    .dataframe tbody tr th {\n",
       "        vertical-align: top;\n",
       "    }\n",
       "\n",
       "    .dataframe thead th {\n",
       "        text-align: right;\n",
       "    }\n",
       "</style>\n",
       "<table border=\"1\" class=\"dataframe\">\n",
       "  <thead>\n",
       "    <tr style=\"text-align: right;\">\n",
       "      <th></th>\n",
       "      <th>value</th>\n",
       "    </tr>\n",
       "    <tr>\n",
       "      <th>temp</th>\n",
       "      <th></th>\n",
       "    </tr>\n",
       "  </thead>\n",
       "  <tbody>\n",
       "    <tr>\n",
       "      <th>-210</th>\n",
       "      <td>-8.095</td>\n",
       "    </tr>\n",
       "    <tr>\n",
       "      <th>-209</th>\n",
       "      <td>-8.076</td>\n",
       "    </tr>\n",
       "    <tr>\n",
       "      <th>-208</th>\n",
       "      <td>-8.057</td>\n",
       "    </tr>\n",
       "    <tr>\n",
       "      <th>-207</th>\n",
       "      <td>-8.037</td>\n",
       "    </tr>\n",
       "    <tr>\n",
       "      <th>-206</th>\n",
       "      <td>-8.017</td>\n",
       "    </tr>\n",
       "  </tbody>\n",
       "</table>\n",
       "</div>"
      ],
      "text/plain": [
       "      value\n",
       "temp       \n",
       "-210 -8.095\n",
       "-209 -8.076\n",
       "-208 -8.057\n",
       "-207 -8.037\n",
       "-206 -8.017"
      ]
     },
     "execution_count": 15,
     "metadata": {},
     "output_type": "execute_result"
    }
   ],
   "source": [
    "sensor_characteristics.head()"
   ]
  },
  {
   "cell_type": "code",
   "execution_count": 17,
   "id": "0271a24b",
   "metadata": {},
   "outputs": [],
   "source": [
    "df = pd.DataFrame()"
   ]
  },
  {
   "cell_type": "code",
   "execution_count": 18,
   "id": "b73589f9",
   "metadata": {},
   "outputs": [
    {
     "data": {
      "text/html": [
       "<div>\n",
       "<style scoped>\n",
       "    .dataframe tbody tr th:only-of-type {\n",
       "        vertical-align: middle;\n",
       "    }\n",
       "\n",
       "    .dataframe tbody tr th {\n",
       "        vertical-align: top;\n",
       "    }\n",
       "\n",
       "    .dataframe thead th {\n",
       "        text-align: right;\n",
       "    }\n",
       "</style>\n",
       "<table border=\"1\" class=\"dataframe\">\n",
       "  <thead>\n",
       "    <tr style=\"text-align: right;\">\n",
       "      <th></th>\n",
       "    </tr>\n",
       "  </thead>\n",
       "  <tbody>\n",
       "  </tbody>\n",
       "</table>\n",
       "</div>"
      ],
      "text/plain": [
       "Empty DataFrame\n",
       "Columns: []\n",
       "Index: []"
      ]
     },
     "execution_count": 18,
     "metadata": {},
     "output_type": "execute_result"
    }
   ],
   "source": [
    "df"
   ]
  },
  {
   "cell_type": "code",
   "execution_count": 20,
   "id": "104d3f56",
   "metadata": {},
   "outputs": [],
   "source": [
    "min_temp, max_temp = -50, 100"
   ]
  },
  {
   "cell_type": "code",
   "execution_count": 21,
   "id": "205b35b3",
   "metadata": {},
   "outputs": [],
   "source": [
    "min_value = sensor_characteristics.loc[min_temp][\"value\"]\n",
    "max_value = sensor_characteristics.loc[max_temp][\"value\"]"
   ]
  },
  {
   "cell_type": "code",
   "execution_count": 22,
   "id": "008d9e27",
   "metadata": {},
   "outputs": [
    {
     "data": {
      "text/plain": [
       "-2.431"
      ]
     },
     "execution_count": 22,
     "metadata": {},
     "output_type": "execute_result"
    }
   ],
   "source": [
    "min_value"
   ]
  },
  {
   "cell_type": "code",
   "execution_count": 23,
   "id": "dfea326d",
   "metadata": {},
   "outputs": [
    {
     "data": {
      "text/plain": [
       "5.269"
      ]
     },
     "execution_count": 23,
     "metadata": {},
     "output_type": "execute_result"
    }
   ],
   "source": [
    "max_value"
   ]
  },
  {
   "cell_type": "code",
   "execution_count": 24,
   "id": "cebb7375",
   "metadata": {},
   "outputs": [],
   "source": [
    "df[\"voltage\"] = sensor_characteristics[sensor_characteristics.index.isin(range(min_temp, max_temp + 1))][\"value\"]"
   ]
  },
  {
   "cell_type": "code",
   "execution_count": 25,
   "id": "0ec3c92a",
   "metadata": {
    "scrolled": true
   },
   "outputs": [
    {
     "data": {
      "text/html": [
       "<div>\n",
       "<style scoped>\n",
       "    .dataframe tbody tr th:only-of-type {\n",
       "        vertical-align: middle;\n",
       "    }\n",
       "\n",
       "    .dataframe tbody tr th {\n",
       "        vertical-align: top;\n",
       "    }\n",
       "\n",
       "    .dataframe thead th {\n",
       "        text-align: right;\n",
       "    }\n",
       "</style>\n",
       "<table border=\"1\" class=\"dataframe\">\n",
       "  <thead>\n",
       "    <tr style=\"text-align: right;\">\n",
       "      <th></th>\n",
       "      <th>voltage</th>\n",
       "    </tr>\n",
       "    <tr>\n",
       "      <th>temp</th>\n",
       "      <th></th>\n",
       "    </tr>\n",
       "  </thead>\n",
       "  <tbody>\n",
       "    <tr>\n",
       "      <th>-50</th>\n",
       "      <td>-2.431</td>\n",
       "    </tr>\n",
       "    <tr>\n",
       "      <th>-49</th>\n",
       "      <td>-2.385</td>\n",
       "    </tr>\n",
       "    <tr>\n",
       "      <th>-48</th>\n",
       "      <td>-2.338</td>\n",
       "    </tr>\n",
       "    <tr>\n",
       "      <th>-47</th>\n",
       "      <td>-2.291</td>\n",
       "    </tr>\n",
       "    <tr>\n",
       "      <th>-46</th>\n",
       "      <td>-2.244</td>\n",
       "    </tr>\n",
       "    <tr>\n",
       "      <th>-45</th>\n",
       "      <td>-2.197</td>\n",
       "    </tr>\n",
       "    <tr>\n",
       "      <th>-44</th>\n",
       "      <td>-2.150</td>\n",
       "    </tr>\n",
       "    <tr>\n",
       "      <th>-43</th>\n",
       "      <td>-2.103</td>\n",
       "    </tr>\n",
       "    <tr>\n",
       "      <th>-42</th>\n",
       "      <td>-2.055</td>\n",
       "    </tr>\n",
       "    <tr>\n",
       "      <th>-41</th>\n",
       "      <td>-2.008</td>\n",
       "    </tr>\n",
       "  </tbody>\n",
       "</table>\n",
       "</div>"
      ],
      "text/plain": [
       "      voltage\n",
       "temp         \n",
       "-50    -2.431\n",
       "-49    -2.385\n",
       "-48    -2.338\n",
       "-47    -2.291\n",
       "-46    -2.244\n",
       "-45    -2.197\n",
       "-44    -2.150\n",
       "-43    -2.103\n",
       "-42    -2.055\n",
       "-41    -2.008"
      ]
     },
     "execution_count": 25,
     "metadata": {},
     "output_type": "execute_result"
    }
   ],
   "source": [
    "df.head(10)"
   ]
  },
  {
   "cell_type": "code",
   "execution_count": 26,
   "id": "f5607bfe",
   "metadata": {},
   "outputs": [],
   "source": [
    "_simulation_range = [value for value in df_mcp_4725[\"divided_voltage (mV)\"] if min_value < value < max_value]"
   ]
  },
  {
   "cell_type": "code",
   "execution_count": 28,
   "id": "a20a4c13",
   "metadata": {},
   "outputs": [
    {
     "data": {
      "text/plain": [
       "[0.008056640625,\n",
       " 0.01611328125,\n",
       " 0.024169921874999997,\n",
       " 0.0322265625,\n",
       " 0.040283203125,\n",
       " 0.04833984375,\n",
       " 0.05639648437499999,\n",
       " 0.064453125,\n",
       " 0.072509765625,\n",
       " 0.08056640625]"
      ]
     },
     "execution_count": 28,
     "metadata": {},
     "output_type": "execute_result"
    }
   ],
   "source": [
    "_simulation_range[0:10]"
   ]
  },
  {
   "cell_type": "code",
   "execution_count": 32,
   "id": "b5a879c2",
   "metadata": {},
   "outputs": [],
   "source": [
    "df[\"calc\"] = df[\"voltage\"].apply(lambda x: round(math.copysign(1, x) * find_nearest(_simulation_range, abs(x)), 5))"
   ]
  },
  {
   "cell_type": "code",
   "execution_count": 34,
   "id": "9a06bdcc",
   "metadata": {},
   "outputs": [
    {
     "data": {
      "text/html": [
       "<div>\n",
       "<style scoped>\n",
       "    .dataframe tbody tr th:only-of-type {\n",
       "        vertical-align: middle;\n",
       "    }\n",
       "\n",
       "    .dataframe tbody tr th {\n",
       "        vertical-align: top;\n",
       "    }\n",
       "\n",
       "    .dataframe thead th {\n",
       "        text-align: right;\n",
       "    }\n",
       "</style>\n",
       "<table border=\"1\" class=\"dataframe\">\n",
       "  <thead>\n",
       "    <tr style=\"text-align: right;\">\n",
       "      <th></th>\n",
       "      <th>voltage</th>\n",
       "      <th>calc</th>\n",
       "    </tr>\n",
       "    <tr>\n",
       "      <th>temp</th>\n",
       "      <th></th>\n",
       "      <th></th>\n",
       "    </tr>\n",
       "  </thead>\n",
       "  <tbody>\n",
       "    <tr>\n",
       "      <th>-50</th>\n",
       "      <td>-2.431</td>\n",
       "      <td>-2.43311</td>\n",
       "    </tr>\n",
       "    <tr>\n",
       "      <th>-49</th>\n",
       "      <td>-2.385</td>\n",
       "      <td>-2.38477</td>\n",
       "    </tr>\n",
       "    <tr>\n",
       "      <th>-48</th>\n",
       "      <td>-2.338</td>\n",
       "      <td>-2.33643</td>\n",
       "    </tr>\n",
       "    <tr>\n",
       "      <th>-47</th>\n",
       "      <td>-2.291</td>\n",
       "      <td>-2.28809</td>\n",
       "    </tr>\n",
       "    <tr>\n",
       "      <th>-46</th>\n",
       "      <td>-2.244</td>\n",
       "      <td>-2.24780</td>\n",
       "    </tr>\n",
       "  </tbody>\n",
       "</table>\n",
       "</div>"
      ],
      "text/plain": [
       "      voltage     calc\n",
       "temp                  \n",
       "-50    -2.431 -2.43311\n",
       "-49    -2.385 -2.38477\n",
       "-48    -2.338 -2.33643\n",
       "-47    -2.291 -2.28809\n",
       "-46    -2.244 -2.24780"
      ]
     },
     "execution_count": 34,
     "metadata": {},
     "output_type": "execute_result"
    }
   ],
   "source": [
    "df.head()"
   ]
  },
  {
   "cell_type": "code",
   "execution_count": 35,
   "id": "032a62da",
   "metadata": {},
   "outputs": [
    {
     "ename": "KeyError",
     "evalue": "'te'",
     "output_type": "error",
     "traceback": [
      "\u001b[1;31m---------------------------------------------------------------------------\u001b[0m",
      "\u001b[1;31mKeyError\u001b[0m                                  Traceback (most recent call last)",
      "File \u001b[1;32mc:\\users\\fmark\\pycharmprojects\\dissertation\\venv\\lib\\site-packages\\pandas\\core\\indexes\\base.py:3621\u001b[0m, in \u001b[0;36mIndex.get_loc\u001b[1;34m(self, key, method, tolerance)\u001b[0m\n\u001b[0;32m   3620\u001b[0m \u001b[38;5;28;01mtry\u001b[39;00m:\n\u001b[1;32m-> 3621\u001b[0m     \u001b[38;5;28;01mreturn\u001b[39;00m \u001b[38;5;28;43mself\u001b[39;49m\u001b[38;5;241;43m.\u001b[39;49m\u001b[43m_engine\u001b[49m\u001b[38;5;241;43m.\u001b[39;49m\u001b[43mget_loc\u001b[49m\u001b[43m(\u001b[49m\u001b[43mcasted_key\u001b[49m\u001b[43m)\u001b[49m\n\u001b[0;32m   3622\u001b[0m \u001b[38;5;28;01mexcept\u001b[39;00m \u001b[38;5;167;01mKeyError\u001b[39;00m \u001b[38;5;28;01mas\u001b[39;00m err:\n",
      "File \u001b[1;32mc:\\users\\fmark\\pycharmprojects\\dissertation\\venv\\lib\\site-packages\\pandas\\_libs\\index.pyx:136\u001b[0m, in \u001b[0;36mpandas._libs.index.IndexEngine.get_loc\u001b[1;34m()\u001b[0m\n",
      "File \u001b[1;32mc:\\users\\fmark\\pycharmprojects\\dissertation\\venv\\lib\\site-packages\\pandas\\_libs\\index.pyx:163\u001b[0m, in \u001b[0;36mpandas._libs.index.IndexEngine.get_loc\u001b[1;34m()\u001b[0m\n",
      "File \u001b[1;32mpandas\\_libs\\hashtable_class_helper.pxi:5198\u001b[0m, in \u001b[0;36mpandas._libs.hashtable.PyObjectHashTable.get_item\u001b[1;34m()\u001b[0m\n",
      "File \u001b[1;32mpandas\\_libs\\hashtable_class_helper.pxi:5206\u001b[0m, in \u001b[0;36mpandas._libs.hashtable.PyObjectHashTable.get_item\u001b[1;34m()\u001b[0m\n",
      "\u001b[1;31mKeyError\u001b[0m: 'te'",
      "\nThe above exception was the direct cause of the following exception:\n",
      "\u001b[1;31mKeyError\u001b[0m                                  Traceback (most recent call last)",
      "Input \u001b[1;32mIn [35]\u001b[0m, in \u001b[0;36m<module>\u001b[1;34m\u001b[0m\n\u001b[1;32m----> 1\u001b[0m df[\u001b[38;5;124m\"\u001b[39m\u001b[38;5;124mcode\u001b[39m\u001b[38;5;124m\"\u001b[39m] \u001b[38;5;241m=\u001b[39m \u001b[43mdf_mcp_4725\u001b[49m\u001b[43m[\u001b[49m\u001b[38;5;124;43m\"\u001b[39;49m\u001b[38;5;124;43mte\u001b[39;49m\u001b[38;5;124;43m\"\u001b[39;49m\u001b[43m]\u001b[49m\u001b[38;5;241m.\u001b[39mapply(\u001b[38;5;28;01mlambda\u001b[39;00m x: df_mcp_4725[df_mcp_4725[\u001b[38;5;124m\"\u001b[39m\u001b[38;5;124mdivided_voltage (mV)\u001b[39m\u001b[38;5;124m\"\u001b[39m] \u001b[38;5;241m==\u001b[39m df\u001b[38;5;241m.\u001b[39miloc[x][\u001b[38;5;124m\"\u001b[39m\u001b[38;5;124mcalc\u001b[39m\u001b[38;5;124m\"\u001b[39m]][\u001b[38;5;124m\"\u001b[39m\u001b[38;5;124mcode\u001b[39m\u001b[38;5;124m\"\u001b[39m], axis\u001b[38;5;241m=\u001b[39m\u001b[38;5;241m0\u001b[39m)\n",
      "File \u001b[1;32mc:\\users\\fmark\\pycharmprojects\\dissertation\\venv\\lib\\site-packages\\pandas\\core\\frame.py:3506\u001b[0m, in \u001b[0;36mDataFrame.__getitem__\u001b[1;34m(self, key)\u001b[0m\n\u001b[0;32m   3504\u001b[0m \u001b[38;5;28;01mif\u001b[39;00m \u001b[38;5;28mself\u001b[39m\u001b[38;5;241m.\u001b[39mcolumns\u001b[38;5;241m.\u001b[39mnlevels \u001b[38;5;241m>\u001b[39m \u001b[38;5;241m1\u001b[39m:\n\u001b[0;32m   3505\u001b[0m     \u001b[38;5;28;01mreturn\u001b[39;00m \u001b[38;5;28mself\u001b[39m\u001b[38;5;241m.\u001b[39m_getitem_multilevel(key)\n\u001b[1;32m-> 3506\u001b[0m indexer \u001b[38;5;241m=\u001b[39m \u001b[38;5;28;43mself\u001b[39;49m\u001b[38;5;241;43m.\u001b[39;49m\u001b[43mcolumns\u001b[49m\u001b[38;5;241;43m.\u001b[39;49m\u001b[43mget_loc\u001b[49m\u001b[43m(\u001b[49m\u001b[43mkey\u001b[49m\u001b[43m)\u001b[49m\n\u001b[0;32m   3507\u001b[0m \u001b[38;5;28;01mif\u001b[39;00m is_integer(indexer):\n\u001b[0;32m   3508\u001b[0m     indexer \u001b[38;5;241m=\u001b[39m [indexer]\n",
      "File \u001b[1;32mc:\\users\\fmark\\pycharmprojects\\dissertation\\venv\\lib\\site-packages\\pandas\\core\\indexes\\base.py:3623\u001b[0m, in \u001b[0;36mIndex.get_loc\u001b[1;34m(self, key, method, tolerance)\u001b[0m\n\u001b[0;32m   3621\u001b[0m     \u001b[38;5;28;01mreturn\u001b[39;00m \u001b[38;5;28mself\u001b[39m\u001b[38;5;241m.\u001b[39m_engine\u001b[38;5;241m.\u001b[39mget_loc(casted_key)\n\u001b[0;32m   3622\u001b[0m \u001b[38;5;28;01mexcept\u001b[39;00m \u001b[38;5;167;01mKeyError\u001b[39;00m \u001b[38;5;28;01mas\u001b[39;00m err:\n\u001b[1;32m-> 3623\u001b[0m     \u001b[38;5;28;01mraise\u001b[39;00m \u001b[38;5;167;01mKeyError\u001b[39;00m(key) \u001b[38;5;28;01mfrom\u001b[39;00m \u001b[38;5;21;01merr\u001b[39;00m\n\u001b[0;32m   3624\u001b[0m \u001b[38;5;28;01mexcept\u001b[39;00m \u001b[38;5;167;01mTypeError\u001b[39;00m:\n\u001b[0;32m   3625\u001b[0m     \u001b[38;5;66;03m# If we have a listlike key, _check_indexing_error will raise\u001b[39;00m\n\u001b[0;32m   3626\u001b[0m     \u001b[38;5;66;03m#  InvalidIndexError. Otherwise we fall through and re-raise\u001b[39;00m\n\u001b[0;32m   3627\u001b[0m     \u001b[38;5;66;03m#  the TypeError.\u001b[39;00m\n\u001b[0;32m   3628\u001b[0m     \u001b[38;5;28mself\u001b[39m\u001b[38;5;241m.\u001b[39m_check_indexing_error(key)\n",
      "\u001b[1;31mKeyError\u001b[0m: 'te'"
     ]
    }
   ],
   "source": [
    "df[\"code\"] = df_mcp_4725[\"v\"].apply(lambda x: df_mcp_4725[df_mcp_4725[\"divided_voltage (mV)\"] == df.iloc[x][\"calc\"]][\"code\"], axis=0)"
   ]
  },
  {
   "cell_type": "code",
   "execution_count": 55,
   "id": "e31d2843",
   "metadata": {},
   "outputs": [
    {
     "data": {
      "text/plain": [
       "temp\n",
       "0        0\n",
       "1        5\n",
       "2       12\n",
       "3       18\n",
       "4       24\n",
       "      ... \n",
       "96     626\n",
       "97     633\n",
       "98     639\n",
       "99     646\n",
       "100    652\n",
       "Name: calc, Length: 101, dtype: int64"
      ]
     },
     "execution_count": 55,
     "metadata": {},
     "output_type": "execute_result"
    }
   ],
   "source": [
    "df[\"calc\"].apply(lambda x: int(df_mcp_4725[df_mcp_4725[\"divided_voltage (mV)\"] == x].iloc[0][\"code\"]))"
   ]
  },
  {
   "cell_type": "code",
   "execution_count": 52,
   "id": "2526652c",
   "metadata": {},
   "outputs": [
    {
     "data": {
      "text/plain": [
       "652    652\n",
       "Name: code, dtype: int64"
      ]
     },
     "execution_count": 52,
     "metadata": {},
     "output_type": "execute_result"
    }
   ],
   "source": [
    "df_mcp_4725[df_mcp_4725[\"divided_voltage (mV)\"] == df[\"calc\"][100]][\"code\"]"
   ]
  },
  {
   "cell_type": "code",
   "execution_count": 51,
   "id": "e790ff1e",
   "metadata": {},
   "outputs": [
    {
     "data": {
      "text/plain": [
       "temp\n",
       "0      0.008057\n",
       "1      0.048340\n",
       "2      0.104736\n",
       "3      0.153076\n",
       "4      0.201416\n",
       "         ...   \n",
       "96     5.051514\n",
       "97     5.107910\n",
       "98     5.156250\n",
       "99     5.212646\n",
       "100    5.260986\n",
       "Name: calc, Length: 101, dtype: float64"
      ]
     },
     "execution_count": 51,
     "metadata": {},
     "output_type": "execute_result"
    }
   ],
   "source": [
    "df[\"calc\"].apply(lambda x: x)"
   ]
  },
  {
   "cell_type": "code",
   "execution_count": null,
   "id": "cd61eef0",
   "metadata": {},
   "outputs": [],
   "source": []
  }
 ],
 "metadata": {
  "kernelspec": {
   "display_name": "Python 3 (ipykernel)",
   "language": "python",
   "name": "python3"
  },
  "language_info": {
   "codemirror_mode": {
    "name": "ipython",
    "version": 3
   },
   "file_extension": ".py",
   "mimetype": "text/x-python",
   "name": "python",
   "nbconvert_exporter": "python",
   "pygments_lexer": "ipython3",
   "version": "3.9.0"
  }
 },
 "nbformat": 4,
 "nbformat_minor": 5
}
