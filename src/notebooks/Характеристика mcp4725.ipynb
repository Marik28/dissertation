{
 "cells": [
  {
   "cell_type": "code",
   "execution_count": 1,
   "id": "b852112e",
   "metadata": {},
   "outputs": [],
   "source": [
    "import numpy as np\n",
    "import pandas as pd\n",
    "import matplotlib.pyplot as plt\n",
    "\n",
    "# patching\n",
    "import sys\n",
    "from pathlib import Path\n",
    "sys.path.insert(0, str(Path.cwd().parent))\n",
    "\n",
    "from utils.utils import find_nearest"
   ]
  },
  {
   "cell_type": "code",
   "execution_count": 2,
   "id": "40d02ba5",
   "metadata": {},
   "outputs": [],
   "source": [
    "path = Path(\".\").resolve().parent.parent / \"data\" / \"sensors_characteristics\""
   ]
  },
  {
   "cell_type": "code",
   "execution_count": 3,
   "id": "e42a8dfd",
   "metadata": {},
   "outputs": [
    {
     "data": {
      "text/plain": [
       "WindowsPath('C:/Users/fmark/PycharmProjects/dissertation/data/sensors_characteristics')"
      ]
     },
     "execution_count": 3,
     "metadata": {},
     "output_type": "execute_result"
    }
   ],
   "source": [
    "path"
   ]
  },
  {
   "cell_type": "code",
   "execution_count": 4,
   "id": "9c30464e",
   "metadata": {},
   "outputs": [],
   "source": [
    "reference_voltage = 3.3\n",
    "steps = 2**12"
   ]
  },
  {
   "cell_type": "code",
   "execution_count": 5,
   "id": "ff71197f",
   "metadata": {},
   "outputs": [
    {
     "data": {
      "text/plain": [
       "4096"
      ]
     },
     "execution_count": 5,
     "metadata": {},
     "output_type": "execute_result"
    }
   ],
   "source": [
    "steps"
   ]
  },
  {
   "cell_type": "code",
   "execution_count": 6,
   "id": "6128aefa",
   "metadata": {},
   "outputs": [],
   "source": [
    "step = reference_voltage / steps"
   ]
  },
  {
   "cell_type": "code",
   "execution_count": 7,
   "id": "fdf54737",
   "metadata": {},
   "outputs": [
    {
     "data": {
      "text/plain": [
       "0.0008056640625"
      ]
     },
     "execution_count": 7,
     "metadata": {},
     "output_type": "execute_result"
    }
   ],
   "source": [
    "step"
   ]
  },
  {
   "cell_type": "code",
   "execution_count": 8,
   "id": "b79f1ed2",
   "metadata": {},
   "outputs": [],
   "source": [
    "codes = [i for i in range(steps)]\n",
    "voltages = [(code / steps) * reference_voltage + step for code in codes]\n",
    "df_mcp_4725 = pd.DataFrame({\"code\": codes, \"voltage\": voltages})"
   ]
  },
  {
   "cell_type": "code",
   "execution_count": 9,
   "id": "4c34f112",
   "metadata": {},
   "outputs": [
    {
     "data": {
      "text/html": [
       "<div>\n",
       "<style scoped>\n",
       "    .dataframe tbody tr th:only-of-type {\n",
       "        vertical-align: middle;\n",
       "    }\n",
       "\n",
       "    .dataframe tbody tr th {\n",
       "        vertical-align: top;\n",
       "    }\n",
       "\n",
       "    .dataframe thead th {\n",
       "        text-align: right;\n",
       "    }\n",
       "</style>\n",
       "<table border=\"1\" class=\"dataframe\">\n",
       "  <thead>\n",
       "    <tr style=\"text-align: right;\">\n",
       "      <th></th>\n",
       "      <th>code</th>\n",
       "      <th>voltage</th>\n",
       "    </tr>\n",
       "  </thead>\n",
       "  <tbody>\n",
       "    <tr>\n",
       "      <th>0</th>\n",
       "      <td>0</td>\n",
       "      <td>0.000806</td>\n",
       "    </tr>\n",
       "    <tr>\n",
       "      <th>1</th>\n",
       "      <td>1</td>\n",
       "      <td>0.001611</td>\n",
       "    </tr>\n",
       "    <tr>\n",
       "      <th>2</th>\n",
       "      <td>2</td>\n",
       "      <td>0.002417</td>\n",
       "    </tr>\n",
       "    <tr>\n",
       "      <th>3</th>\n",
       "      <td>3</td>\n",
       "      <td>0.003223</td>\n",
       "    </tr>\n",
       "    <tr>\n",
       "      <th>4</th>\n",
       "      <td>4</td>\n",
       "      <td>0.004028</td>\n",
       "    </tr>\n",
       "  </tbody>\n",
       "</table>\n",
       "</div>"
      ],
      "text/plain": [
       "   code   voltage\n",
       "0     0  0.000806\n",
       "1     1  0.001611\n",
       "2     2  0.002417\n",
       "3     3  0.003223\n",
       "4     4  0.004028"
      ]
     },
     "execution_count": 9,
     "metadata": {},
     "output_type": "execute_result"
    }
   ],
   "source": [
    "df_mcp_4725.head()"
   ]
  },
  {
   "cell_type": "code",
   "execution_count": 10,
   "id": "35c7443c",
   "metadata": {},
   "outputs": [],
   "source": [
    "df_mcp_4725[\"divided_voltage\"] = df_mcp_4725[\"voltage\"] / 100"
   ]
  },
  {
   "cell_type": "code",
   "execution_count": 11,
   "id": "fa828afe",
   "metadata": {},
   "outputs": [],
   "source": [
    "df_mcp_4725[\"divided_voltage (mV)\"] = df_mcp_4725[\"divided_voltage\"] * 1000"
   ]
  },
  {
   "cell_type": "code",
   "execution_count": 12,
   "id": "3b76312d",
   "metadata": {},
   "outputs": [
    {
     "data": {
      "text/html": [
       "<div>\n",
       "<style scoped>\n",
       "    .dataframe tbody tr th:only-of-type {\n",
       "        vertical-align: middle;\n",
       "    }\n",
       "\n",
       "    .dataframe tbody tr th {\n",
       "        vertical-align: top;\n",
       "    }\n",
       "\n",
       "    .dataframe thead th {\n",
       "        text-align: right;\n",
       "    }\n",
       "</style>\n",
       "<table border=\"1\" class=\"dataframe\">\n",
       "  <thead>\n",
       "    <tr style=\"text-align: right;\">\n",
       "      <th></th>\n",
       "      <th>code</th>\n",
       "      <th>voltage</th>\n",
       "      <th>divided_voltage</th>\n",
       "      <th>divided_voltage (mV)</th>\n",
       "    </tr>\n",
       "  </thead>\n",
       "  <tbody>\n",
       "    <tr>\n",
       "      <th>0</th>\n",
       "      <td>0</td>\n",
       "      <td>0.000806</td>\n",
       "      <td>0.000008</td>\n",
       "      <td>0.008057</td>\n",
       "    </tr>\n",
       "    <tr>\n",
       "      <th>1</th>\n",
       "      <td>1</td>\n",
       "      <td>0.001611</td>\n",
       "      <td>0.000016</td>\n",
       "      <td>0.016113</td>\n",
       "    </tr>\n",
       "    <tr>\n",
       "      <th>2</th>\n",
       "      <td>2</td>\n",
       "      <td>0.002417</td>\n",
       "      <td>0.000024</td>\n",
       "      <td>0.024170</td>\n",
       "    </tr>\n",
       "    <tr>\n",
       "      <th>3</th>\n",
       "      <td>3</td>\n",
       "      <td>0.003223</td>\n",
       "      <td>0.000032</td>\n",
       "      <td>0.032227</td>\n",
       "    </tr>\n",
       "    <tr>\n",
       "      <th>4</th>\n",
       "      <td>4</td>\n",
       "      <td>0.004028</td>\n",
       "      <td>0.000040</td>\n",
       "      <td>0.040283</td>\n",
       "    </tr>\n",
       "    <tr>\n",
       "      <th>...</th>\n",
       "      <td>...</td>\n",
       "      <td>...</td>\n",
       "      <td>...</td>\n",
       "      <td>...</td>\n",
       "    </tr>\n",
       "    <tr>\n",
       "      <th>4091</th>\n",
       "      <td>4091</td>\n",
       "      <td>3.296777</td>\n",
       "      <td>0.032968</td>\n",
       "      <td>32.967773</td>\n",
       "    </tr>\n",
       "    <tr>\n",
       "      <th>4092</th>\n",
       "      <td>4092</td>\n",
       "      <td>3.297583</td>\n",
       "      <td>0.032976</td>\n",
       "      <td>32.975830</td>\n",
       "    </tr>\n",
       "    <tr>\n",
       "      <th>4093</th>\n",
       "      <td>4093</td>\n",
       "      <td>3.298389</td>\n",
       "      <td>0.032984</td>\n",
       "      <td>32.983887</td>\n",
       "    </tr>\n",
       "    <tr>\n",
       "      <th>4094</th>\n",
       "      <td>4094</td>\n",
       "      <td>3.299194</td>\n",
       "      <td>0.032992</td>\n",
       "      <td>32.991943</td>\n",
       "    </tr>\n",
       "    <tr>\n",
       "      <th>4095</th>\n",
       "      <td>4095</td>\n",
       "      <td>3.300000</td>\n",
       "      <td>0.033000</td>\n",
       "      <td>33.000000</td>\n",
       "    </tr>\n",
       "  </tbody>\n",
       "</table>\n",
       "<p>4096 rows × 4 columns</p>\n",
       "</div>"
      ],
      "text/plain": [
       "      code   voltage  divided_voltage  divided_voltage (mV)\n",
       "0        0  0.000806         0.000008              0.008057\n",
       "1        1  0.001611         0.000016              0.016113\n",
       "2        2  0.002417         0.000024              0.024170\n",
       "3        3  0.003223         0.000032              0.032227\n",
       "4        4  0.004028         0.000040              0.040283\n",
       "...    ...       ...              ...                   ...\n",
       "4091  4091  3.296777         0.032968             32.967773\n",
       "4092  4092  3.297583         0.032976             32.975830\n",
       "4093  4093  3.298389         0.032984             32.983887\n",
       "4094  4094  3.299194         0.032992             32.991943\n",
       "4095  4095  3.300000         0.033000             33.000000\n",
       "\n",
       "[4096 rows x 4 columns]"
      ]
     },
     "execution_count": 12,
     "metadata": {},
     "output_type": "execute_result"
    }
   ],
   "source": [
    "df_mcp_4725"
   ]
  },
  {
   "cell_type": "code",
   "execution_count": 13,
   "id": "03b9b4a5",
   "metadata": {},
   "outputs": [],
   "source": [
    "sensor_characteristics = pd.read_csv(path / \"ТЖК (J).csv\",index_col=\"temp\")"
   ]
  },
  {
   "cell_type": "code",
   "execution_count": 14,
   "id": "36d1f7fc",
   "metadata": {},
   "outputs": [
    {
     "data": {
      "text/html": [
       "<div>\n",
       "<style scoped>\n",
       "    .dataframe tbody tr th:only-of-type {\n",
       "        vertical-align: middle;\n",
       "    }\n",
       "\n",
       "    .dataframe tbody tr th {\n",
       "        vertical-align: top;\n",
       "    }\n",
       "\n",
       "    .dataframe thead th {\n",
       "        text-align: right;\n",
       "    }\n",
       "</style>\n",
       "<table border=\"1\" class=\"dataframe\">\n",
       "  <thead>\n",
       "    <tr style=\"text-align: right;\">\n",
       "      <th></th>\n",
       "      <th>value</th>\n",
       "    </tr>\n",
       "    <tr>\n",
       "      <th>temp</th>\n",
       "      <th></th>\n",
       "    </tr>\n",
       "  </thead>\n",
       "  <tbody>\n",
       "    <tr>\n",
       "      <th>0</th>\n",
       "      <td>0.000</td>\n",
       "    </tr>\n",
       "    <tr>\n",
       "      <th>1</th>\n",
       "      <td>0.050</td>\n",
       "    </tr>\n",
       "    <tr>\n",
       "      <th>2</th>\n",
       "      <td>0.101</td>\n",
       "    </tr>\n",
       "    <tr>\n",
       "      <th>3</th>\n",
       "      <td>0.151</td>\n",
       "    </tr>\n",
       "    <tr>\n",
       "      <th>4</th>\n",
       "      <td>0.202</td>\n",
       "    </tr>\n",
       "    <tr>\n",
       "      <th>5</th>\n",
       "      <td>0.253</td>\n",
       "    </tr>\n",
       "    <tr>\n",
       "      <th>6</th>\n",
       "      <td>0.303</td>\n",
       "    </tr>\n",
       "    <tr>\n",
       "      <th>7</th>\n",
       "      <td>0.354</td>\n",
       "    </tr>\n",
       "    <tr>\n",
       "      <th>8</th>\n",
       "      <td>0.405</td>\n",
       "    </tr>\n",
       "    <tr>\n",
       "      <th>9</th>\n",
       "      <td>0.456</td>\n",
       "    </tr>\n",
       "    <tr>\n",
       "      <th>10</th>\n",
       "      <td>0.507</td>\n",
       "    </tr>\n",
       "  </tbody>\n",
       "</table>\n",
       "</div>"
      ],
      "text/plain": [
       "      value\n",
       "temp       \n",
       "0     0.000\n",
       "1     0.050\n",
       "2     0.101\n",
       "3     0.151\n",
       "4     0.202\n",
       "5     0.253\n",
       "6     0.303\n",
       "7     0.354\n",
       "8     0.405\n",
       "9     0.456\n",
       "10    0.507"
      ]
     },
     "execution_count": 14,
     "metadata": {},
     "output_type": "execute_result"
    }
   ],
   "source": [
    "sensor_characteristics.loc[0:10]"
   ]
  },
  {
   "cell_type": "code",
   "execution_count": 15,
   "id": "0271a24b",
   "metadata": {},
   "outputs": [],
   "source": [
    "df = pd.DataFrame()"
   ]
  },
  {
   "cell_type": "code",
   "execution_count": 16,
   "id": "b73589f9",
   "metadata": {},
   "outputs": [
    {
     "data": {
      "text/html": [
       "<div>\n",
       "<style scoped>\n",
       "    .dataframe tbody tr th:only-of-type {\n",
       "        vertical-align: middle;\n",
       "    }\n",
       "\n",
       "    .dataframe tbody tr th {\n",
       "        vertical-align: top;\n",
       "    }\n",
       "\n",
       "    .dataframe thead th {\n",
       "        text-align: right;\n",
       "    }\n",
       "</style>\n",
       "<table border=\"1\" class=\"dataframe\">\n",
       "  <thead>\n",
       "    <tr style=\"text-align: right;\">\n",
       "      <th></th>\n",
       "    </tr>\n",
       "  </thead>\n",
       "  <tbody>\n",
       "  </tbody>\n",
       "</table>\n",
       "</div>"
      ],
      "text/plain": [
       "Empty DataFrame\n",
       "Columns: []\n",
       "Index: []"
      ]
     },
     "execution_count": 16,
     "metadata": {},
     "output_type": "execute_result"
    }
   ],
   "source": [
    "df"
   ]
  },
  {
   "cell_type": "code",
   "execution_count": 17,
   "id": "104d3f56",
   "metadata": {},
   "outputs": [],
   "source": [
    "min_temp, max_temp = 0, 100"
   ]
  },
  {
   "cell_type": "code",
   "execution_count": 18,
   "id": "205b35b3",
   "metadata": {},
   "outputs": [],
   "source": [
    "min_value = sensor_characteristics.loc[min_temp][\"value\"]\n",
    "max_value = sensor_characteristics.loc[max_temp][\"value\"]"
   ]
  },
  {
   "cell_type": "code",
   "execution_count": 19,
   "id": "008d9e27",
   "metadata": {},
   "outputs": [
    {
     "data": {
      "text/plain": [
       "0.0"
      ]
     },
     "execution_count": 19,
     "metadata": {},
     "output_type": "execute_result"
    }
   ],
   "source": [
    "min_value"
   ]
  },
  {
   "cell_type": "code",
   "execution_count": 20,
   "id": "dfea326d",
   "metadata": {},
   "outputs": [
    {
     "data": {
      "text/plain": [
       "5.269"
      ]
     },
     "execution_count": 20,
     "metadata": {},
     "output_type": "execute_result"
    }
   ],
   "source": [
    "max_value"
   ]
  },
  {
   "cell_type": "code",
   "execution_count": 21,
   "id": "cebb7375",
   "metadata": {},
   "outputs": [],
   "source": [
    "df[\"voltage\"] = sensor_characteristics[sensor_characteristics.index.isin(range(min_temp, max_temp + 1))][\"value\"]"
   ]
  },
  {
   "cell_type": "code",
   "execution_count": 22,
   "id": "0ec3c92a",
   "metadata": {
    "scrolled": true
   },
   "outputs": [
    {
     "data": {
      "text/html": [
       "<div>\n",
       "<style scoped>\n",
       "    .dataframe tbody tr th:only-of-type {\n",
       "        vertical-align: middle;\n",
       "    }\n",
       "\n",
       "    .dataframe tbody tr th {\n",
       "        vertical-align: top;\n",
       "    }\n",
       "\n",
       "    .dataframe thead th {\n",
       "        text-align: right;\n",
       "    }\n",
       "</style>\n",
       "<table border=\"1\" class=\"dataframe\">\n",
       "  <thead>\n",
       "    <tr style=\"text-align: right;\">\n",
       "      <th></th>\n",
       "      <th>voltage</th>\n",
       "    </tr>\n",
       "    <tr>\n",
       "      <th>temp</th>\n",
       "      <th></th>\n",
       "    </tr>\n",
       "  </thead>\n",
       "  <tbody>\n",
       "    <tr>\n",
       "      <th>0</th>\n",
       "      <td>0.000</td>\n",
       "    </tr>\n",
       "    <tr>\n",
       "      <th>1</th>\n",
       "      <td>0.050</td>\n",
       "    </tr>\n",
       "    <tr>\n",
       "      <th>2</th>\n",
       "      <td>0.101</td>\n",
       "    </tr>\n",
       "    <tr>\n",
       "      <th>3</th>\n",
       "      <td>0.151</td>\n",
       "    </tr>\n",
       "    <tr>\n",
       "      <th>4</th>\n",
       "      <td>0.202</td>\n",
       "    </tr>\n",
       "    <tr>\n",
       "      <th>5</th>\n",
       "      <td>0.253</td>\n",
       "    </tr>\n",
       "    <tr>\n",
       "      <th>6</th>\n",
       "      <td>0.303</td>\n",
       "    </tr>\n",
       "    <tr>\n",
       "      <th>7</th>\n",
       "      <td>0.354</td>\n",
       "    </tr>\n",
       "    <tr>\n",
       "      <th>8</th>\n",
       "      <td>0.405</td>\n",
       "    </tr>\n",
       "    <tr>\n",
       "      <th>9</th>\n",
       "      <td>0.456</td>\n",
       "    </tr>\n",
       "  </tbody>\n",
       "</table>\n",
       "</div>"
      ],
      "text/plain": [
       "      voltage\n",
       "temp         \n",
       "0       0.000\n",
       "1       0.050\n",
       "2       0.101\n",
       "3       0.151\n",
       "4       0.202\n",
       "5       0.253\n",
       "6       0.303\n",
       "7       0.354\n",
       "8       0.405\n",
       "9       0.456"
      ]
     },
     "execution_count": 22,
     "metadata": {},
     "output_type": "execute_result"
    }
   ],
   "source": [
    "df.head(10)"
   ]
  },
  {
   "cell_type": "code",
   "execution_count": 23,
   "id": "f5607bfe",
   "metadata": {},
   "outputs": [],
   "source": [
    "_simulation_range = [value for value in df_mcp_4725[\"divided_voltage (mV)\"] if min_value < value < max_value]"
   ]
  },
  {
   "cell_type": "code",
   "execution_count": 24,
   "id": "a20a4c13",
   "metadata": {},
   "outputs": [
    {
     "data": {
      "text/plain": [
       "[5.188476562500001,\n",
       " 5.196533203125,\n",
       " 5.20458984375,\n",
       " 5.212646484375,\n",
       " 5.220703125,\n",
       " 5.228759765625,\n",
       " 5.23681640625,\n",
       " 5.244873046875,\n",
       " 5.2529296875,\n",
       " 5.260986328125]"
      ]
     },
     "execution_count": 24,
     "metadata": {},
     "output_type": "execute_result"
    }
   ],
   "source": [
    "_simulation_range[-10:]"
   ]
  },
  {
   "cell_type": "code",
   "execution_count": 25,
   "id": "b5a879c2",
   "metadata": {},
   "outputs": [],
   "source": [
    "df[\"calc\"] = df[\"voltage\"].apply(lambda x: find_nearest(_simulation_range, x))"
   ]
  },
  {
   "cell_type": "code",
   "execution_count": 26,
   "id": "9a06bdcc",
   "metadata": {},
   "outputs": [
    {
     "data": {
      "text/html": [
       "<div>\n",
       "<style scoped>\n",
       "    .dataframe tbody tr th:only-of-type {\n",
       "        vertical-align: middle;\n",
       "    }\n",
       "\n",
       "    .dataframe tbody tr th {\n",
       "        vertical-align: top;\n",
       "    }\n",
       "\n",
       "    .dataframe thead th {\n",
       "        text-align: right;\n",
       "    }\n",
       "</style>\n",
       "<table border=\"1\" class=\"dataframe\">\n",
       "  <thead>\n",
       "    <tr style=\"text-align: right;\">\n",
       "      <th></th>\n",
       "      <th>voltage</th>\n",
       "      <th>calc</th>\n",
       "    </tr>\n",
       "    <tr>\n",
       "      <th>temp</th>\n",
       "      <th></th>\n",
       "      <th></th>\n",
       "    </tr>\n",
       "  </thead>\n",
       "  <tbody>\n",
       "    <tr>\n",
       "      <th>0</th>\n",
       "      <td>0.000</td>\n",
       "      <td>0.008057</td>\n",
       "    </tr>\n",
       "    <tr>\n",
       "      <th>1</th>\n",
       "      <td>0.050</td>\n",
       "      <td>0.048340</td>\n",
       "    </tr>\n",
       "    <tr>\n",
       "      <th>2</th>\n",
       "      <td>0.101</td>\n",
       "      <td>0.104736</td>\n",
       "    </tr>\n",
       "    <tr>\n",
       "      <th>3</th>\n",
       "      <td>0.151</td>\n",
       "      <td>0.153076</td>\n",
       "    </tr>\n",
       "    <tr>\n",
       "      <th>4</th>\n",
       "      <td>0.202</td>\n",
       "      <td>0.201416</td>\n",
       "    </tr>\n",
       "    <tr>\n",
       "      <th>...</th>\n",
       "      <td>...</td>\n",
       "      <td>...</td>\n",
       "    </tr>\n",
       "    <tr>\n",
       "      <th>96</th>\n",
       "      <td>5.052</td>\n",
       "      <td>5.051514</td>\n",
       "    </tr>\n",
       "    <tr>\n",
       "      <th>97</th>\n",
       "      <td>5.106</td>\n",
       "      <td>5.107910</td>\n",
       "    </tr>\n",
       "    <tr>\n",
       "      <th>98</th>\n",
       "      <td>5.160</td>\n",
       "      <td>5.156250</td>\n",
       "    </tr>\n",
       "    <tr>\n",
       "      <th>99</th>\n",
       "      <td>5.215</td>\n",
       "      <td>5.212646</td>\n",
       "    </tr>\n",
       "    <tr>\n",
       "      <th>100</th>\n",
       "      <td>5.269</td>\n",
       "      <td>5.260986</td>\n",
       "    </tr>\n",
       "  </tbody>\n",
       "</table>\n",
       "<p>101 rows × 2 columns</p>\n",
       "</div>"
      ],
      "text/plain": [
       "      voltage      calc\n",
       "temp                   \n",
       "0       0.000  0.008057\n",
       "1       0.050  0.048340\n",
       "2       0.101  0.104736\n",
       "3       0.151  0.153076\n",
       "4       0.202  0.201416\n",
       "...       ...       ...\n",
       "96      5.052  5.051514\n",
       "97      5.106  5.107910\n",
       "98      5.160  5.156250\n",
       "99      5.215  5.212646\n",
       "100     5.269  5.260986\n",
       "\n",
       "[101 rows x 2 columns]"
      ]
     },
     "execution_count": 26,
     "metadata": {},
     "output_type": "execute_result"
    }
   ],
   "source": [
    "df"
   ]
  },
  {
   "cell_type": "code",
   "execution_count": 39,
   "id": "032a62da",
   "metadata": {},
   "outputs": [
    {
     "data": {
      "text/plain": [
       "Int64Index([  0,   1,   2,   3,   4,   5,   6,   7,   8,   9,\n",
       "            ...\n",
       "             91,  92,  93,  94,  95,  96,  97,  98,  99, 100],\n",
       "           dtype='int64', name='temp', length=101)"
      ]
     },
     "execution_count": 39,
     "metadata": {},
     "output_type": "execute_result"
    }
   ],
   "source": [
    "df[\"code\"] = df_mcp_4725[\"te\"].apply(lambda x: df_mcp_4725[df_mcp_4725[\"divided_voltage (mV)\"] == df.iloc[x][\"calc\"]][\"code\"], axis=0)"
   ]
  },
  {
   "cell_type": "code",
   "execution_count": 55,
   "id": "e31d2843",
   "metadata": {},
   "outputs": [
    {
     "data": {
      "text/plain": [
       "temp\n",
       "0        0\n",
       "1        5\n",
       "2       12\n",
       "3       18\n",
       "4       24\n",
       "      ... \n",
       "96     626\n",
       "97     633\n",
       "98     639\n",
       "99     646\n",
       "100    652\n",
       "Name: calc, Length: 101, dtype: int64"
      ]
     },
     "execution_count": 55,
     "metadata": {},
     "output_type": "execute_result"
    }
   ],
   "source": [
    "df[\"calc\"].apply(lambda x: int(df_mcp_4725[df_mcp_4725[\"divided_voltage (mV)\"] == x].iloc[0][\"code\"]))"
   ]
  },
  {
   "cell_type": "code",
   "execution_count": 52,
   "id": "2526652c",
   "metadata": {},
   "outputs": [
    {
     "data": {
      "text/plain": [
       "652    652\n",
       "Name: code, dtype: int64"
      ]
     },
     "execution_count": 52,
     "metadata": {},
     "output_type": "execute_result"
    }
   ],
   "source": [
    "df_mcp_4725[df_mcp_4725[\"divided_voltage (mV)\"] == df[\"calc\"][100]][\"code\"]"
   ]
  },
  {
   "cell_type": "code",
   "execution_count": 51,
   "id": "e790ff1e",
   "metadata": {},
   "outputs": [
    {
     "data": {
      "text/plain": [
       "temp\n",
       "0      0.008057\n",
       "1      0.048340\n",
       "2      0.104736\n",
       "3      0.153076\n",
       "4      0.201416\n",
       "         ...   \n",
       "96     5.051514\n",
       "97     5.107910\n",
       "98     5.156250\n",
       "99     5.212646\n",
       "100    5.260986\n",
       "Name: calc, Length: 101, dtype: float64"
      ]
     },
     "execution_count": 51,
     "metadata": {},
     "output_type": "execute_result"
    }
   ],
   "source": [
    "df[\"calc\"].apply(lambda x: x)"
   ]
  },
  {
   "cell_type": "code",
   "execution_count": null,
   "id": "cd61eef0",
   "metadata": {},
   "outputs": [],
   "source": []
  }
 ],
 "metadata": {
  "kernelspec": {
   "display_name": "Python 3 (ipykernel)",
   "language": "python",
   "name": "python3"
  },
  "language_info": {
   "codemirror_mode": {
    "name": "ipython",
    "version": 3
   },
   "file_extension": ".py",
   "mimetype": "text/x-python",
   "name": "python",
   "nbconvert_exporter": "python",
   "pygments_lexer": "ipython3",
   "version": "3.9.0"
  }
 },
 "nbformat": 4,
 "nbformat_minor": 5
}
