{
 "cells": [
  {
   "cell_type": "code",
   "execution_count": 1,
   "id": "8807ef78",
   "metadata": {},
   "outputs": [],
   "source": [
    "import numpy as np\n",
    "import pandas as pd\n",
    "import matplotlib.pyplot as plt\n",
    "from IPython.display import Image\n",
    "\n",
    "# patching\n",
    "import sys\n",
    "from pathlib import Path\n",
    "sys.path.insert(0, str(Path.cwd().parent))\n",
    "\n",
    "from utils.utils import find_nearest"
   ]
  },
  {
   "cell_type": "code",
   "execution_count": 2,
   "id": "ec104e74",
   "metadata": {},
   "outputs": [],
   "source": [
    "reference_voltage = 3.3\n",
    "max_output_current = 25e-3\n",
    "steps = 2**12"
   ]
  },
  {
   "cell_type": "code",
   "execution_count": 3,
   "id": "5b0bc18c",
   "metadata": {},
   "outputs": [
    {
     "data": {
      "text/plain": [
       "4096"
      ]
     },
     "execution_count": 3,
     "metadata": {},
     "output_type": "execute_result"
    }
   ],
   "source": [
    "steps"
   ]
  },
  {
   "cell_type": "code",
   "execution_count": 4,
   "id": "f55565f1",
   "metadata": {},
   "outputs": [],
   "source": [
    "step = reference_voltage / steps"
   ]
  },
  {
   "cell_type": "code",
   "execution_count": 5,
   "id": "6b408c23",
   "metadata": {},
   "outputs": [
    {
     "data": {
      "text/plain": [
       "0.0008056640625"
      ]
     },
     "execution_count": 5,
     "metadata": {},
     "output_type": "execute_result"
    }
   ],
   "source": [
    "step"
   ]
  },
  {
   "cell_type": "code",
   "execution_count": 8,
   "id": "a7f236c5",
   "metadata": {},
   "outputs": [],
   "source": [
    "codes = [i for i in range(steps)]\n",
    "voltages = [(code / steps) * reference_voltage + step for code in codes]\n",
    "df_mcp_4725 = pd.DataFrame({\"code\": codes, \"value\": voltages})"
   ]
  },
  {
   "cell_type": "code",
   "execution_count": 9,
   "id": "d6026c58",
   "metadata": {
    "scrolled": true
   },
   "outputs": [
    {
     "data": {
      "text/html": [
       "<div>\n",
       "<style scoped>\n",
       "    .dataframe tbody tr th:only-of-type {\n",
       "        vertical-align: middle;\n",
       "    }\n",
       "\n",
       "    .dataframe tbody tr th {\n",
       "        vertical-align: top;\n",
       "    }\n",
       "\n",
       "    .dataframe thead th {\n",
       "        text-align: right;\n",
       "    }\n",
       "</style>\n",
       "<table border=\"1\" class=\"dataframe\">\n",
       "  <thead>\n",
       "    <tr style=\"text-align: right;\">\n",
       "      <th></th>\n",
       "      <th>code</th>\n",
       "      <th>value</th>\n",
       "    </tr>\n",
       "  </thead>\n",
       "  <tbody>\n",
       "    <tr>\n",
       "      <th>0</th>\n",
       "      <td>0</td>\n",
       "      <td>0.000806</td>\n",
       "    </tr>\n",
       "    <tr>\n",
       "      <th>1</th>\n",
       "      <td>1</td>\n",
       "      <td>0.001611</td>\n",
       "    </tr>\n",
       "    <tr>\n",
       "      <th>2</th>\n",
       "      <td>2</td>\n",
       "      <td>0.002417</td>\n",
       "    </tr>\n",
       "    <tr>\n",
       "      <th>3</th>\n",
       "      <td>3</td>\n",
       "      <td>0.003223</td>\n",
       "    </tr>\n",
       "    <tr>\n",
       "      <th>4</th>\n",
       "      <td>4</td>\n",
       "      <td>0.004028</td>\n",
       "    </tr>\n",
       "    <tr>\n",
       "      <th>...</th>\n",
       "      <td>...</td>\n",
       "      <td>...</td>\n",
       "    </tr>\n",
       "    <tr>\n",
       "      <th>4091</th>\n",
       "      <td>4091</td>\n",
       "      <td>3.296777</td>\n",
       "    </tr>\n",
       "    <tr>\n",
       "      <th>4092</th>\n",
       "      <td>4092</td>\n",
       "      <td>3.297583</td>\n",
       "    </tr>\n",
       "    <tr>\n",
       "      <th>4093</th>\n",
       "      <td>4093</td>\n",
       "      <td>3.298389</td>\n",
       "    </tr>\n",
       "    <tr>\n",
       "      <th>4094</th>\n",
       "      <td>4094</td>\n",
       "      <td>3.299194</td>\n",
       "    </tr>\n",
       "    <tr>\n",
       "      <th>4095</th>\n",
       "      <td>4095</td>\n",
       "      <td>3.300000</td>\n",
       "    </tr>\n",
       "  </tbody>\n",
       "</table>\n",
       "<p>4096 rows × 2 columns</p>\n",
       "</div>"
      ],
      "text/plain": [
       "      code     value\n",
       "0        0  0.000806\n",
       "1        1  0.001611\n",
       "2        2  0.002417\n",
       "3        3  0.003223\n",
       "4        4  0.004028\n",
       "...    ...       ...\n",
       "4091  4091  3.296777\n",
       "4092  4092  3.297583\n",
       "4093  4093  3.298389\n",
       "4094  4094  3.299194\n",
       "4095  4095  3.300000\n",
       "\n",
       "[4096 rows x 2 columns]"
      ]
     },
     "execution_count": 9,
     "metadata": {},
     "output_type": "execute_result"
    }
   ],
   "source": [
    "df_mcp_4725"
   ]
  },
  {
   "cell_type": "code",
   "execution_count": 8,
   "id": "4d279baa",
   "metadata": {},
   "outputs": [
    {
     "data": {
      "image/png": "[encoded data removed]",
      "text/plain": [
       "<IPython.core.display.Image object>"
      ]
     },
     "execution_count": 8,
     "metadata": {},
     "output_type": "execute_result"
    }
   ],
   "source": [
    "Image(filename=\"../../data/images/design.png\")"
   ]
  },
  {
   "cell_type": "code",
   "execution_count": 9,
   "id": "ad35fa2f",
   "metadata": {},
   "outputs": [],
   "source": [
    "R1 = 9900"
   ]
  },
  {
   "cell_type": "code",
   "execution_count": 10,
   "id": "32a0e548",
   "metadata": {},
   "outputs": [],
   "source": [
    "R2 = 100"
   ]
  },
  {
   "cell_type": "code",
   "execution_count": 11,
   "id": "e2a0e6ce",
   "metadata": {},
   "outputs": [],
   "source": [
    "divider_coeff = R2 / (R1 + R2)"
   ]
  },
  {
   "cell_type": "code",
   "execution_count": 12,
   "id": "af23881c",
   "metadata": {},
   "outputs": [
    {
     "data": {
      "text/plain": [
       "0.01"
      ]
     },
     "execution_count": 12,
     "metadata": {},
     "output_type": "execute_result"
    }
   ],
   "source": [
    "divider_coeff"
   ]
  },
  {
   "cell_type": "code",
   "execution_count": 13,
   "id": "e5b53c3c",
   "metadata": {},
   "outputs": [],
   "source": [
    "df_mcp_4725[\"divided_voltage\"] = df_mcp_4725[\"voltage\"] * divider_coeff"
   ]
  },
  {
   "cell_type": "code",
   "execution_count": 35,
   "id": "34659e8b",
   "metadata": {},
   "outputs": [],
   "source": [
    "df_mcp_4725.to_csv(\"../../data/DAC/mcp4725.csv\", index=False)"
   ]
  },
  {
   "cell_type": "code",
   "execution_count": 15,
   "id": "29acea44",
   "metadata": {},
   "outputs": [],
   "source": [
    "divider_current = reference_voltage / (R1 + R2)"
   ]
  },
  {
   "cell_type": "code",
   "execution_count": 16,
   "id": "4aa688e2",
   "metadata": {},
   "outputs": [
    {
     "data": {
      "text/plain": [
       "True"
      ]
     },
     "execution_count": 16,
     "metadata": {},
     "output_type": "execute_result"
    }
   ],
   "source": [
    "divider_current < max_output_current"
   ]
  },
  {
   "cell_type": "code",
   "execution_count": 17,
   "id": "1e049ec0",
   "metadata": {},
   "outputs": [],
   "source": [
    "def twos_comp(val, bits):\n",
    "    \"\"\"compute the 2's complement of int value val\"\"\"\n",
    "    if (val & (1 << (bits - 1))) != 0: # if sign bit is set e.g., 8bit: 128-255\n",
    "        val = val - (1 << bits)        # compute negative value\n",
    "    return val "
   ]
  },
  {
   "cell_type": "code",
   "execution_count": 18,
   "id": "90e5b2e3",
   "metadata": {},
   "outputs": [],
   "source": [
    "max_voltage = 40e-3\n",
    "min_voltage = -1*max_voltage"
   ]
  },
  {
   "cell_type": "code",
   "execution_count": 19,
   "id": "f3156cf7",
   "metadata": {},
   "outputs": [],
   "source": [
    "step = ((max_voltage * 2) / 2**24)"
   ]
  },
  {
   "cell_type": "code",
   "execution_count": 20,
   "id": "3d3e5670",
   "metadata": {},
   "outputs": [
    {
     "data": {
      "text/plain": [
       "4.76837158203125e-09"
      ]
     },
     "execution_count": 20,
     "metadata": {},
     "output_type": "execute_result"
    }
   ],
   "source": [
    "step"
   ]
  },
  {
   "cell_type": "code",
   "execution_count": 21,
   "id": "02754bdd",
   "metadata": {},
   "outputs": [],
   "source": [
    "hx_codes = [i for i in range(2**24)]"
   ]
  },
  {
   "cell_type": "code",
   "execution_count": 22,
   "id": "2aa0952c",
   "metadata": {},
   "outputs": [],
   "source": [
    "twos_comp_codes = [twos_comp(i, 24) for i in hx_codes]"
   ]
  },
  {
   "cell_type": "code",
   "execution_count": 23,
   "id": "895788d2",
   "metadata": {},
   "outputs": [],
   "source": [
    "hx_voltages = [i * step for i in twos_comp_codes]"
   ]
  },
  {
   "cell_type": "code",
   "execution_count": 24,
   "id": "e59fa594",
   "metadata": {},
   "outputs": [],
   "source": [
    "hex_codes = [hex(i).upper() for i in hx_codes]"
   ]
  },
  {
   "cell_type": "code",
   "execution_count": 25,
   "id": "75910ee7",
   "metadata": {},
   "outputs": [],
   "source": [
    "df_hx = pd.DataFrame(\n",
    "    {\n",
    "        \"code\": hx_codes,\n",
    "        \"voltage\": hx_voltages,\n",
    "        \"2's comp\": twos_comp_codes,\n",
    "        \"hex_code\": hex_codes,\n",
    "    }\n",
    ")"
   ]
  },
  {
   "cell_type": "code",
   "execution_count": 26,
   "id": "335e0f35",
   "metadata": {},
   "outputs": [],
   "source": [
    "del twos_comp_codes\n",
    "del hx_codes\n",
    "del hx_voltages\n",
    "del hex_codes"
   ]
  },
  {
   "cell_type": "code",
   "execution_count": 27,
   "id": "6a142a18",
   "metadata": {},
   "outputs": [
    {
     "data": {
      "text/html": [
       "<div>\n",
       "<style scoped>\n",
       "    .dataframe tbody tr th:only-of-type {\n",
       "        vertical-align: middle;\n",
       "    }\n",
       "\n",
       "    .dataframe tbody tr th {\n",
       "        vertical-align: top;\n",
       "    }\n",
       "\n",
       "    .dataframe thead th {\n",
       "        text-align: right;\n",
       "    }\n",
       "</style>\n",
       "<table border=\"1\" class=\"dataframe\">\n",
       "  <thead>\n",
       "    <tr style=\"text-align: right;\">\n",
       "      <th></th>\n",
       "      <th>code</th>\n",
       "      <th>voltage</th>\n",
       "      <th>2's comp</th>\n",
       "      <th>hex_code</th>\n",
       "    </tr>\n",
       "  </thead>\n",
       "  <tbody>\n",
       "    <tr>\n",
       "      <th>0</th>\n",
       "      <td>0</td>\n",
       "      <td>0.000000e+00</td>\n",
       "      <td>0</td>\n",
       "      <td>0X0</td>\n",
       "    </tr>\n",
       "    <tr>\n",
       "      <th>1</th>\n",
       "      <td>1</td>\n",
       "      <td>4.768372e-09</td>\n",
       "      <td>1</td>\n",
       "      <td>0X1</td>\n",
       "    </tr>\n",
       "    <tr>\n",
       "      <th>2</th>\n",
       "      <td>2</td>\n",
       "      <td>9.536743e-09</td>\n",
       "      <td>2</td>\n",
       "      <td>0X2</td>\n",
       "    </tr>\n",
       "    <tr>\n",
       "      <th>3</th>\n",
       "      <td>3</td>\n",
       "      <td>1.430511e-08</td>\n",
       "      <td>3</td>\n",
       "      <td>0X3</td>\n",
       "    </tr>\n",
       "    <tr>\n",
       "      <th>4</th>\n",
       "      <td>4</td>\n",
       "      <td>1.907349e-08</td>\n",
       "      <td>4</td>\n",
       "      <td>0X4</td>\n",
       "    </tr>\n",
       "    <tr>\n",
       "      <th>...</th>\n",
       "      <td>...</td>\n",
       "      <td>...</td>\n",
       "      <td>...</td>\n",
       "      <td>...</td>\n",
       "    </tr>\n",
       "    <tr>\n",
       "      <th>16777211</th>\n",
       "      <td>16777211</td>\n",
       "      <td>-2.384186e-08</td>\n",
       "      <td>-5</td>\n",
       "      <td>0XFFFFFB</td>\n",
       "    </tr>\n",
       "    <tr>\n",
       "      <th>16777212</th>\n",
       "      <td>16777212</td>\n",
       "      <td>-1.907349e-08</td>\n",
       "      <td>-4</td>\n",
       "      <td>0XFFFFFC</td>\n",
       "    </tr>\n",
       "    <tr>\n",
       "      <th>16777213</th>\n",
       "      <td>16777213</td>\n",
       "      <td>-1.430511e-08</td>\n",
       "      <td>-3</td>\n",
       "      <td>0XFFFFFD</td>\n",
       "    </tr>\n",
       "    <tr>\n",
       "      <th>16777214</th>\n",
       "      <td>16777214</td>\n",
       "      <td>-9.536743e-09</td>\n",
       "      <td>-2</td>\n",
       "      <td>0XFFFFFE</td>\n",
       "    </tr>\n",
       "    <tr>\n",
       "      <th>16777215</th>\n",
       "      <td>16777215</td>\n",
       "      <td>-4.768372e-09</td>\n",
       "      <td>-1</td>\n",
       "      <td>0XFFFFFF</td>\n",
       "    </tr>\n",
       "  </tbody>\n",
       "</table>\n",
       "<p>16777216 rows × 4 columns</p>\n",
       "</div>"
      ],
      "text/plain": [
       "              code       voltage  2's comp  hex_code\n",
       "0                0  0.000000e+00         0       0X0\n",
       "1                1  4.768372e-09         1       0X1\n",
       "2                2  9.536743e-09         2       0X2\n",
       "3                3  1.430511e-08         3       0X3\n",
       "4                4  1.907349e-08         4       0X4\n",
       "...            ...           ...       ...       ...\n",
       "16777211  16777211 -2.384186e-08        -5  0XFFFFFB\n",
       "16777212  16777212 -1.907349e-08        -4  0XFFFFFC\n",
       "16777213  16777213 -1.430511e-08        -3  0XFFFFFD\n",
       "16777214  16777214 -9.536743e-09        -2  0XFFFFFE\n",
       "16777215  16777215 -4.768372e-09        -1  0XFFFFFF\n",
       "\n",
       "[16777216 rows x 4 columns]"
      ]
     },
     "execution_count": 27,
     "metadata": {},
     "output_type": "execute_result"
    }
   ],
   "source": [
    "df_hx"
   ]
  },
  {
   "cell_type": "code",
   "execution_count": 28,
   "id": "a03e65dd",
   "metadata": {},
   "outputs": [
    {
     "data": {
      "text/html": [
       "<div>\n",
       "<style scoped>\n",
       "    .dataframe tbody tr th:only-of-type {\n",
       "        vertical-align: middle;\n",
       "    }\n",
       "\n",
       "    .dataframe tbody tr th {\n",
       "        vertical-align: top;\n",
       "    }\n",
       "\n",
       "    .dataframe thead th {\n",
       "        text-align: right;\n",
       "    }\n",
       "</style>\n",
       "<table border=\"1\" class=\"dataframe\">\n",
       "  <thead>\n",
       "    <tr style=\"text-align: right;\">\n",
       "      <th></th>\n",
       "      <th>code</th>\n",
       "      <th>voltage</th>\n",
       "      <th>2's comp</th>\n",
       "      <th>hex_code</th>\n",
       "    </tr>\n",
       "  </thead>\n",
       "  <tbody>\n",
       "    <tr>\n",
       "      <th>16772718</th>\n",
       "      <td>16772718</td>\n",
       "      <td>-0.000021</td>\n",
       "      <td>-4498</td>\n",
       "      <td>0XFFEE6E</td>\n",
       "    </tr>\n",
       "  </tbody>\n",
       "</table>\n",
       "</div>"
      ],
      "text/plain": [
       "              code   voltage  2's comp  hex_code\n",
       "16772718  16772718 -0.000021     -4498  0XFFEE6E"
      ]
     },
     "execution_count": 28,
     "metadata": {},
     "output_type": "execute_result"
    }
   ],
   "source": [
    "df_hx[df_hx[\"2\\'s comp\"]  == -4498]"
   ]
  },
  {
   "cell_type": "code",
   "execution_count": 29,
   "id": "09186856",
   "metadata": {},
   "outputs": [
    {
     "data": {
      "text/plain": [
       "-3914"
      ]
     },
     "execution_count": 29,
     "metadata": {},
     "output_type": "execute_result"
    }
   ],
   "source": [
    "-3914"
   ]
  },
  {
   "cell_type": "code",
   "execution_count": 30,
   "id": "14a7d2d2",
   "metadata": {},
   "outputs": [
    {
     "data": {
      "text/plain": [
       "-220593.22033898305"
      ]
     },
     "execution_count": 30,
     "metadata": {},
     "output_type": "execute_result"
    }
   ],
   "source": [
    "-5206 / 0.0236"
   ]
  },
  {
   "cell_type": "code",
   "execution_count": 31,
   "id": "e8efcd0a",
   "metadata": {},
   "outputs": [
    {
     "data": {
      "text/plain": [
       "0.024171211235170655"
      ]
     },
     "execution_count": 31,
     "metadata": {},
     "output_type": "execute_result"
    }
   ],
   "source": [
    "5332 / 220593"
   ]
  },
  {
   "cell_type": "code",
   "execution_count": 32,
   "id": "4beca450",
   "metadata": {},
   "outputs": [
    {
     "data": {
      "text/plain": [
       "9.765625e-05"
      ]
     },
     "execution_count": 32,
     "metadata": {},
     "output_type": "execute_result"
    }
   ],
   "source": [
    "0.1 / 2**10"
   ]
  },
  {
   "cell_type": "code",
   "execution_count": null,
   "id": "0a841083",
   "metadata": {},
   "outputs": [],
   "source": []
  }
 ],
 "metadata": {
  "kernelspec": {
   "display_name": "Python 3 (ipykernel)",
   "language": "python",
   "name": "python3"
  },
  "language_info": {
   "codemirror_mode": {
    "name": "ipython",
    "version": 3
   },
   "file_extension": ".py",
   "mimetype": "text/x-python",
   "name": "python",
   "nbconvert_exporter": "python",
   "pygments_lexer": "ipython3",
   "version": "3.9.0"
  }
 },
 "nbformat": 4,
 "nbformat_minor": 5
}
