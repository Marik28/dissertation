{
 "cells": [
  {
   "cell_type": "code",
   "execution_count": 4,
   "id": "1d4ac88f",
   "metadata": {},
   "outputs": [],
   "source": [
    "import os\n",
    "from pathlib import Path\n",
    "import pandas as pd"
   ]
  },
  {
   "cell_type": "code",
   "execution_count": 5,
   "id": "fc99c02e",
   "metadata": {},
   "outputs": [],
   "source": [
    "path = Path.cwd()"
   ]
  },
  {
   "cell_type": "code",
   "execution_count": 6,
   "id": "cb63eaca",
   "metadata": {},
   "outputs": [
    {
     "data": {
      "text/plain": [
       "WindowsPath('C:/Users/fmark/PycharmProjects/dissertation/src/notebooks')"
      ]
     },
     "execution_count": 6,
     "metadata": {},
     "output_type": "execute_result"
    }
   ],
   "source": [
    "path"
   ]
  },
  {
   "cell_type": "code",
   "execution_count": 15,
   "id": "d741cf25",
   "metadata": {},
   "outputs": [],
   "source": [
    "for dirpath, _, files in os.walk(path.parent.parent / \"data\" / \"sensors_characteristics\"):\n",
    "    cur_path = Path(dirpath)\n",
    "    for file in files:\n",
    "        file_path = cur_path / file\n",
    "        df = pd.read_csv(file_path)\n",
    "        df[\"R\"] = df[\"R\"].apply(lambda x: round(x, 2))\n",
    "        df.to_csv(file_path, index=False, float_format=\"%.2f\")"
   ]
  },
  {
   "cell_type": "code",
   "execution_count": null,
   "id": "f9c00710",
   "metadata": {},
   "outputs": [],
   "source": []
  }
 ],
 "metadata": {
  "kernelspec": {
   "display_name": "venv",
   "language": "python",
   "name": "venv"
  },
  "language_info": {
   "codemirror_mode": {
    "name": "ipython",
    "version": 3
   },
   "file_extension": ".py",
   "mimetype": "text/x-python",
   "name": "python",
   "nbconvert_exporter": "python",
   "pygments_lexer": "ipython3",
   "version": "3.10.0"
  }
 },
 "nbformat": 4,
 "nbformat_minor": 5
}
