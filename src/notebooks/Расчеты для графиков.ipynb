{
 "cells": [
  {
   "cell_type": "code",
   "execution_count": 1,
   "id": "1f291d66",
   "metadata": {},
   "outputs": [],
   "source": [
    "# patching\n",
    "import sys\n",
    "from pathlib import Path\n",
    "sys.path.insert(0, str(Path.cwd().parent))"
   ]
  },
  {
   "cell_type": "code",
   "execution_count": 3,
   "id": "df908dec",
   "metadata": {},
   "outputs": [],
   "source": [
    "import pandas as pd\n",
    "import numpy as np\n",
    "from matplotlib import pyplot as plt"
   ]
  },
  {
   "cell_type": "code",
   "execution_count": 77,
   "id": "a2a450e6",
   "metadata": {},
   "outputs": [],
   "source": [
    "k = 1."
   ]
  },
  {
   "cell_type": "code",
   "execution_count": 78,
   "id": "6d93ea0b",
   "metadata": {},
   "outputs": [],
   "source": [
    "start = 0."
   ]
  },
  {
   "cell_type": "code",
   "execution_count": 79,
   "id": "8b112029",
   "metadata": {},
   "outputs": [],
   "source": [
    "times = [i for i in range(100)]"
   ]
  },
  {
   "cell_type": "code",
   "execution_count": 80,
   "id": "0ef24bfa",
   "metadata": {},
   "outputs": [],
   "source": [
    "values1 = [start + t * k for t in times[:50]]"
   ]
  },
  {
   "cell_type": "code",
   "execution_count": 81,
   "id": "8899a222",
   "metadata": {},
   "outputs": [],
   "source": [
    "start = values1[-1]"
   ]
  },
  {
   "cell_type": "code",
   "execution_count": 82,
   "id": "6188b33e",
   "metadata": {},
   "outputs": [
    {
     "data": {
      "text/plain": [
       "49.0"
      ]
     },
     "execution_count": 82,
     "metadata": {},
     "output_type": "execute_result"
    }
   ],
   "source": [
    "start"
   ]
  },
  {
   "cell_type": "code",
   "execution_count": 83,
   "id": "96f37553",
   "metadata": {},
   "outputs": [],
   "source": [
    "values2 = [start + t * -k for t in times[:50]]"
   ]
  },
  {
   "cell_type": "code",
   "execution_count": 84,
   "id": "98d04bab",
   "metadata": {},
   "outputs": [
    {
     "data": {
      "text/plain": [
       "[<matplotlib.lines.Line2D at 0x7f0c19713510>,\n",
       " <matplotlib.lines.Line2D at 0x7f0c19713550>]"
      ]
     },
     "execution_count": 84,
     "metadata": {},
     "output_type": "execute_result"
    },
    {
     "data": {
      "image/png": "[encoded data removed]",
      "text/plain": [
       "<Figure size 432x288 with 1 Axes>"
      ]
     },
     "metadata": {
      "needs_background": "light"
     },
     "output_type": "display_data"
    }
   ],
   "source": [
    "plt.plot(times[:50], values, times[50:], values2)"
   ]
  },
  {
   "cell_type": "code",
   "execution_count": null,
   "id": "6e8488f9",
   "metadata": {},
   "outputs": [],
   "source": []
  }
 ],
 "metadata": {
  "kernelspec": {
   "display_name": "Python 3 (ipykernel)",
   "language": "python",
   "name": "python3"
  },
  "language_info": {
   "codemirror_mode": {
    "name": "ipython",
    "version": 3
   },
   "file_extension": ".py",
   "mimetype": "text/x-python",
   "name": "python",
   "nbconvert_exporter": "python",
   "pygments_lexer": "ipython3",
   "version": "3.7.12"
  }
 },
 "nbformat": 4,
 "nbformat_minor": 5
}
