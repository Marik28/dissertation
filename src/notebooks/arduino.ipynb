{
 "cells": [
  {
   "cell_type": "code",
   "execution_count": 1,
   "id": "b2c71cb0",
   "metadata": {},
   "outputs": [],
   "source": [
    "import pandas as pd"
   ]
  },
  {
   "cell_type": "code",
   "execution_count": 4,
   "id": "43f982ba",
   "metadata": {},
   "outputs": [],
   "source": [
    "df = pd.read_csv(\"../../data/real_sensors/50М.csv\")"
   ]
  },
  {
   "cell_type": "code",
   "execution_count": 10,
   "id": "bd8472cf",
   "metadata": {},
   "outputs": [],
   "source": [
    "array = []\n",
    "for _, row in df.iterrows():\n",
    "    r1_code = int(row[\"R1_code\"])\n",
    "    r2_code = int(row[\"R2_code\"])\n",
    "    array.append([r1_code, r2_code])"
   ]
  },
  {
   "cell_type": "code",
   "execution_count": 11,
   "id": "9ce87224",
   "metadata": {
    "scrolled": false
   },
   "outputs": [
    {
     "data": {
      "text/plain": [
       "[[0, 113],\n",
       " [0, 122],\n",
       " [100, 0],\n",
       " [7, 10],\n",
       " [12, 6],\n",
       " [0, 174],\n",
       " [0, 193],\n",
       " [0, 216],\n",
       " [0, 244],\n",
       " [187, 0],\n",
       " [211, 0],\n",
       " [1, 57],\n",
       " [50, 1],\n",
       " [52, 1],\n",
       " [54, 1],\n",
       " [1, 67],\n",
       " [13, 7],\n",
       " [43, 2],\n",
       " [2, 48],\n",
       " [1, 80],\n",
       " [4, 26],\n",
       " [73, 1],\n",
       " [7, 14],\n",
       " [2, 56],\n",
       " [3, 37],\n",
       " [1, 107],\n",
       " [4, 30],\n",
       " [1, 119],\n",
       " [8, 14],\n",
       " [2, 69],\n",
       " [118, 1],\n",
       " [125, 1],\n",
       " [1, 166],\n",
       " [4, 36],\n",
       " [1, 194],\n",
       " [167, 1],\n",
       " [1, 231],\n",
       " [1, 255],\n",
       " [218, 1],\n",
       " [242, 1],\n",
       " [111, 2],\n",
       " [118, 2],\n",
       " [2, 119],\n",
       " [4, 46],\n",
       " [23, 7],\n",
       " [66, 3],\n",
       " [161, 2],\n",
       " [3, 72],\n",
       " [73, 3],\n",
       " [203, 2],\n",
       " [221, 2],\n",
       " [244, 2],\n",
       " [24, 8],\n",
       " [64, 4],\n",
       " [92, 3],\n",
       " [5, 44],\n",
       " [100, 3],\n",
       " [46, 5],\n",
       " [39, 6],\n",
       " [40, 6],\n",
       " [120, 3],\n",
       " [126, 3],\n",
       " [5, 51],\n",
       " [89, 4],\n",
       " [148, 3],\n",
       " [6, 43],\n",
       " [4, 86],\n",
       " [177, 3],\n",
       " [189, 3],\n",
       " [8, 31],\n",
       " [218, 3],\n",
       " [236, 3],\n",
       " [4, 105],\n",
       " [136, 4],\n",
       " [3, 245],\n",
       " [75, 5],\n",
       " [158, 4],\n",
       " [167, 4],\n",
       " [4, 132],\n",
       " [188, 4],\n",
       " [18, 14],\n",
       " [214, 4],\n",
       " [230, 4],\n",
       " [248, 4],\n",
       " [4, 173],\n",
       " [27, 11],\n",
       " [53, 7],\n",
       " [5, 96],\n",
       " [116, 5],\n",
       " [22, 13],\n",
       " [29, 11],\n",
       " [50, 8],\n",
       " [136, 5],\n",
       " [36, 10],\n",
       " [148, 5],\n",
       " [54, 8],\n",
       " [24, 13],\n",
       " [68, 7],\n",
       " [179, 5],\n",
       " [20, 16],\n",
       " [5, 147],\n",
       " [5, 153],\n",
       " [10, 39],\n",
       " [18, 19],\n",
       " [5, 173],\n",
       " [5, 181],\n",
       " [5, 189],\n",
       " [159, 6],\n",
       " [89, 7],\n",
       " [9, 50],\n",
       " [5, 230],\n",
       " [7, 82],\n",
       " [18, 21],\n",
       " [37, 12],\n",
       " [225, 6],\n",
       " [6, 145],\n",
       " [253, 6],\n",
       " [88, 8],\n",
       " [6, 161],\n",
       " [6, 167],\n",
       " [6, 174],\n",
       " [8, 78],\n",
       " [6, 188],\n",
       " [34, 13],\n",
       " [25, 17],\n",
       " [6, 214],\n",
       " [111, 8],\n",
       " [45, 12],\n",
       " [6, 246],\n",
       " [79, 9],\n",
       " [16, 31],\n",
       " [8, 96],\n",
       " [200, 7],\n",
       " [10, 62],\n",
       " [73, 10],\n",
       " [147, 8],\n",
       " [12, 48],\n",
       " [20, 25],\n",
       " [11, 55],\n",
       " [169, 8],\n",
       " [55, 12],\n",
       " [7, 185],\n",
       " [190, 8],\n",
       " [12, 52],\n",
       " [39, 14],\n",
       " [7, 215],\n",
       " [93, 10],\n",
       " [95, 10],\n",
       " [11, 64],\n",
       " [64, 12],\n",
       " [75, 11]]"
      ]
     },
     "execution_count": 11,
     "metadata": {},
     "output_type": "execute_result"
    }
   ],
   "source": [
    "array"
   ]
  },
  {
   "cell_type": "code",
   "execution_count": 12,
   "id": "3b8fb878",
   "metadata": {},
   "outputs": [
    {
     "data": {
      "text/plain": [
       "200.0"
      ]
     },
     "execution_count": 12,
     "metadata": {},
     "output_type": "execute_result"
    }
   ],
   "source": [
    "5.0 / 0.025"
   ]
  },
  {
   "cell_type": "code",
   "execution_count": 13,
   "id": "b11fee6c",
   "metadata": {},
   "outputs": [],
   "source": [
    "R1 = 9_900\n",
    "R2 = 100"
   ]
  },
  {
   "cell_type": "code",
   "execution_count": 14,
   "id": "da2c0e4c",
   "metadata": {},
   "outputs": [],
   "source": [
    "k = R2 / (R1 + R2) "
   ]
  },
  {
   "cell_type": "code",
   "execution_count": 15,
   "id": "e8ec7c47",
   "metadata": {},
   "outputs": [
    {
     "data": {
      "text/plain": [
       "0.01"
      ]
     },
     "execution_count": 15,
     "metadata": {},
     "output_type": "execute_result"
    }
   ],
   "source": [
    "k"
   ]
  },
  {
   "cell_type": "code",
   "execution_count": 16,
   "id": "d087514c",
   "metadata": {},
   "outputs": [],
   "source": [
    "U1 = 5"
   ]
  },
  {
   "cell_type": "code",
   "execution_count": 17,
   "id": "44a92bf4",
   "metadata": {},
   "outputs": [],
   "source": [
    "U2 = U1 * k"
   ]
  },
  {
   "cell_type": "code",
   "execution_count": 18,
   "id": "37f0ce6f",
   "metadata": {},
   "outputs": [
    {
     "data": {
      "text/plain": [
       "0.05"
      ]
     },
     "execution_count": 18,
     "metadata": {},
     "output_type": "execute_result"
    }
   ],
   "source": [
    "U2"
   ]
  },
  {
   "cell_type": "code",
   "execution_count": 19,
   "id": "1d3e16d1",
   "metadata": {},
   "outputs": [
    {
     "data": {
      "text/plain": [
       "0.0005"
      ]
     },
     "execution_count": 19,
     "metadata": {},
     "output_type": "execute_result"
    }
   ],
   "source": [
    "U1 / (R1 + R2)"
   ]
  },
  {
   "cell_type": "code",
   "execution_count": 20,
   "id": "50c7a53c",
   "metadata": {},
   "outputs": [
    {
     "data": {
      "text/plain": [
       "9150"
      ]
     },
     "execution_count": 20,
     "metadata": {},
     "output_type": "execute_result"
    }
   ],
   "source": [
    "8900 + 150 + 100"
   ]
  },
  {
   "cell_type": "code",
   "execution_count": 21,
   "id": "281f4a9a",
   "metadata": {},
   "outputs": [
    {
     "data": {
      "text/plain": [
       "9020"
      ]
     },
     "execution_count": 21,
     "metadata": {},
     "output_type": "execute_result"
    }
   ],
   "source": [
    "8900 + 20 + 100"
   ]
  },
  {
   "cell_type": "code",
   "execution_count": 22,
   "id": "f9dcc61a",
   "metadata": {},
   "outputs": [
    {
     "data": {
      "text/plain": [
       "9965"
      ]
     },
     "execution_count": 22,
     "metadata": {},
     "output_type": "execute_result"
    }
   ],
   "source": [
    "8900 + 150 + 815 + 100"
   ]
  },
  {
   "cell_type": "code",
   "execution_count": 23,
   "id": "25ad6b39",
   "metadata": {},
   "outputs": [
    {
     "data": {
      "text/plain": [
       "9855"
      ]
     },
     "execution_count": 23,
     "metadata": {},
     "output_type": "execute_result"
    }
   ],
   "source": [
    "9750 + 105"
   ]
  },
  {
   "cell_type": "code",
   "execution_count": null,
   "id": "f065599d",
   "metadata": {},
   "outputs": [],
   "source": []
  }
 ],
 "metadata": {
  "kernelspec": {
   "display_name": "Python 3 (ipykernel)",
   "language": "python",
   "name": "python3"
  },
  "language_info": {
   "codemirror_mode": {
    "name": "ipython",
    "version": 3
   },
   "file_extension": ".py",
   "mimetype": "text/x-python",
   "name": "python",
   "nbconvert_exporter": "python",
   "pygments_lexer": "ipython3",
   "version": "3.9.9"
  }
 },
 "nbformat": 4,
 "nbformat_minor": 5
}
