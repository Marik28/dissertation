{
 "cells": [
  {
   "cell_type": "code",
   "execution_count": 1,
   "id": "c85834c7",
   "metadata": {},
   "outputs": [],
   "source": [
    "import numpy as np\n",
    "import pandas as pd\n",
    "import matplotlib.pyplot as plt\n",
    "from tabula import read_pdf\n",
    "\n",
    "# patching\n",
    "import sys\n",
    "from pathlib import Path\n",
    "sys.path.insert(0, str(Path.cwd().parent))\n",
    "\n",
    "from utils.utils import parse_thermocouple_characteristics\n"
   ]
  },
  {
   "cell_type": "code",
   "execution_count": 2,
   "id": "3db4e421",
   "metadata": {},
   "outputs": [],
   "source": [
    "data_dir = Path(\".\").resolve().parent.parent / \"data\""
   ]
  },
  {
   "cell_type": "code",
   "execution_count": 3,
   "id": "d3abec5a",
   "metadata": {},
   "outputs": [
    {
     "data": {
      "text/plain": [
       "PosixPath('/home/mfitsek@wooppay.kz/PycharmProjects/dissertation/data')"
      ]
     },
     "execution_count": 3,
     "metadata": {},
     "output_type": "execute_result"
    }
   ],
   "source": [
    "data_dir"
   ]
  },
  {
   "cell_type": "code",
   "execution_count": 4,
   "id": "fddc78b7",
   "metadata": {},
   "outputs": [],
   "source": [
    "df = pd.read_html(data_dir / \"sensors_characteristics\" / \"ТПП (R).html\", encoding=\"utf-8\", index_col=0)[0]"
   ]
  },
  {
   "cell_type": "code",
   "execution_count": 5,
   "id": "09943249",
   "metadata": {},
   "outputs": [],
   "source": [
    "characteristics_dir = (data_dir / \"sensors_characteristics\")"
   ]
  },
  {
   "cell_type": "code",
   "execution_count": 7,
   "id": "35aec4b6",
   "metadata": {},
   "outputs": [],
   "source": [
    "for file in characteristics_dir.iterdir():\n",
    "    if file.name.endswith(\".html\"):\n",
    "        html_df = pd.read_html(file, encoding=\"utf-8\", index_col=0)[0]\n",
    "        parsed_df = parse_thermocouple_characteristics(html_df)\n",
    "        parsed_df.to_csv(characteristics_dir / f\"{file.name.split('.')[0]}.csv\", index=False)"
   ]
  },
  {
   "cell_type": "code",
   "execution_count": null,
   "id": "6b257532",
   "metadata": {},
   "outputs": [],
   "source": []
  }
 ],
 "metadata": {
  "kernelspec": {
   "display_name": "Python 3 (ipykernel)",
   "language": "python",
   "name": "python3"
  },
  "language_info": {
   "codemirror_mode": {
    "name": "ipython",
    "version": 3
   },
   "file_extension": ".py",
   "mimetype": "text/x-python",
   "name": "python",
   "nbconvert_exporter": "python",
   "pygments_lexer": "ipython3",
   "version": "3.7.12"
  }
 },
 "nbformat": 4,
 "nbformat_minor": 5
}
