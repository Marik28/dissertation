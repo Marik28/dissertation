{
 "cells": [
  {
   "cell_type": "code",
   "execution_count": 1,
   "id": "274d0c95",
   "metadata": {},
   "outputs": [],
   "source": [
    "import pandas as pd\n",
    "import numpy as np\n",
    "from matplotlib import pyplot as plt\n",
    "\n",
    "# patching\n",
    "import sys\n",
    "from pathlib import Path\n",
    "sys.path.insert(0, str(Path.cwd().parent))"
   ]
  },
  {
   "cell_type": "code",
   "execution_count": 2,
   "id": "9d2082b9",
   "metadata": {},
   "outputs": [],
   "source": [
    "path = Path.cwd().parent.parent / \"data\" / \"sensors_characteristics\""
   ]
  },
  {
   "cell_type": "code",
   "execution_count": 3,
   "id": "7f827654",
   "metadata": {},
   "outputs": [],
   "source": [
    "data_dir = path.parent"
   ]
  },
  {
   "cell_type": "code",
   "execution_count": 12,
   "id": "946068c2",
   "metadata": {},
   "outputs": [],
   "source": [
    "files = list(path.iterdir())"
   ]
  },
  {
   "cell_type": "code",
   "execution_count": 13,
   "id": "3a5a356d",
   "metadata": {},
   "outputs": [
    {
     "data": {
      "text/plain": [
       "[WindowsPath('C:/Users/fmark/PycharmProjects/dissertation/data/sensors_characteristics/100М.csv'),\n",
       " WindowsPath('C:/Users/fmark/PycharmProjects/dissertation/data/sensors_characteristics/100П.csv'),\n",
       " WindowsPath('C:/Users/fmark/PycharmProjects/dissertation/data/sensors_characteristics/46П.csv'),\n",
       " WindowsPath('C:/Users/fmark/PycharmProjects/dissertation/data/sensors_characteristics/50М.csv'),\n",
       " WindowsPath('C:/Users/fmark/PycharmProjects/dissertation/data/sensors_characteristics/50П.csv'),\n",
       " WindowsPath('C:/Users/fmark/PycharmProjects/dissertation/data/sensors_characteristics/53М.csv'),\n",
       " WindowsPath('C:/Users/fmark/PycharmProjects/dissertation/data/sensors_characteristics/Cu 100.csv'),\n",
       " WindowsPath('C:/Users/fmark/PycharmProjects/dissertation/data/sensors_characteristics/Cu 50.csv'),\n",
       " WindowsPath('C:/Users/fmark/PycharmProjects/dissertation/data/sensors_characteristics/Pt 100.csv'),\n",
       " WindowsPath('C:/Users/fmark/PycharmProjects/dissertation/data/sensors_characteristics/Pt 50.csv'),\n",
       " WindowsPath('C:/Users/fmark/PycharmProjects/dissertation/data/sensors_characteristics/ТВР (A-1).csv'),\n",
       " WindowsPath('C:/Users/fmark/PycharmProjects/dissertation/data/sensors_characteristics/ТВР (A-2).csv'),\n",
       " WindowsPath('C:/Users/fmark/PycharmProjects/dissertation/data/sensors_characteristics/ТВР (A-3).csv'),\n",
       " WindowsPath('C:/Users/fmark/PycharmProjects/dissertation/data/sensors_characteristics/ТЖК (J).csv'),\n",
       " WindowsPath('C:/Users/fmark/PycharmProjects/dissertation/data/sensors_characteristics/ТМК (T).csv'),\n",
       " WindowsPath('C:/Users/fmark/PycharmProjects/dissertation/data/sensors_characteristics/ТНН (N).csv'),\n",
       " WindowsPath('C:/Users/fmark/PycharmProjects/dissertation/data/sensors_characteristics/ТПП (R).csv'),\n",
       " WindowsPath('C:/Users/fmark/PycharmProjects/dissertation/data/sensors_characteristics/ТПП (S).csv'),\n",
       " WindowsPath('C:/Users/fmark/PycharmProjects/dissertation/data/sensors_characteristics/ТПР (B).csv'),\n",
       " WindowsPath('C:/Users/fmark/PycharmProjects/dissertation/data/sensors_characteristics/ТХА (K).csv'),\n",
       " WindowsPath('C:/Users/fmark/PycharmProjects/dissertation/data/sensors_characteristics/ТХК (L).csv')]"
      ]
     },
     "execution_count": 13,
     "metadata": {},
     "output_type": "execute_result"
    }
   ],
   "source": [
    "files"
   ]
  },
  {
   "cell_type": "code",
   "execution_count": 14,
   "id": "06aca7af",
   "metadata": {},
   "outputs": [
    {
     "data": {
      "text/plain": [
       "[WindowsPath('C:/Users/fmark/PycharmProjects/dissertation/data/sensors_characteristics/100М.csv'),\n",
       " WindowsPath('C:/Users/fmark/PycharmProjects/dissertation/data/sensors_characteristics/100П.csv'),\n",
       " WindowsPath('C:/Users/fmark/PycharmProjects/dissertation/data/sensors_characteristics/46П.csv'),\n",
       " WindowsPath('C:/Users/fmark/PycharmProjects/dissertation/data/sensors_characteristics/50М.csv'),\n",
       " WindowsPath('C:/Users/fmark/PycharmProjects/dissertation/data/sensors_characteristics/50П.csv'),\n",
       " WindowsPath('C:/Users/fmark/PycharmProjects/dissertation/data/sensors_characteristics/53М.csv'),\n",
       " WindowsPath('C:/Users/fmark/PycharmProjects/dissertation/data/sensors_characteristics/Cu 100.csv'),\n",
       " WindowsPath('C:/Users/fmark/PycharmProjects/dissertation/data/sensors_characteristics/Cu 50.csv'),\n",
       " WindowsPath('C:/Users/fmark/PycharmProjects/dissertation/data/sensors_characteristics/Pt 100.csv'),\n",
       " WindowsPath('C:/Users/fmark/PycharmProjects/dissertation/data/sensors_characteristics/Pt 50.csv')]"
      ]
     },
     "execution_count": 14,
     "metadata": {},
     "output_type": "execute_result"
    }
   ],
   "source": [
    "files[:10]"
   ]
  },
  {
   "cell_type": "code",
   "execution_count": 15,
   "id": "bfda79d3",
   "metadata": {},
   "outputs": [
    {
     "data": {
      "text/plain": [
       "[WindowsPath('C:/Users/fmark/PycharmProjects/dissertation/data/sensors_characteristics/ТВР (A-1).csv'),\n",
       " WindowsPath('C:/Users/fmark/PycharmProjects/dissertation/data/sensors_characteristics/ТВР (A-2).csv'),\n",
       " WindowsPath('C:/Users/fmark/PycharmProjects/dissertation/data/sensors_characteristics/ТВР (A-3).csv'),\n",
       " WindowsPath('C:/Users/fmark/PycharmProjects/dissertation/data/sensors_characteristics/ТЖК (J).csv'),\n",
       " WindowsPath('C:/Users/fmark/PycharmProjects/dissertation/data/sensors_characteristics/ТМК (T).csv'),\n",
       " WindowsPath('C:/Users/fmark/PycharmProjects/dissertation/data/sensors_characteristics/ТНН (N).csv'),\n",
       " WindowsPath('C:/Users/fmark/PycharmProjects/dissertation/data/sensors_characteristics/ТПП (R).csv'),\n",
       " WindowsPath('C:/Users/fmark/PycharmProjects/dissertation/data/sensors_characteristics/ТПП (S).csv'),\n",
       " WindowsPath('C:/Users/fmark/PycharmProjects/dissertation/data/sensors_characteristics/ТПР (B).csv'),\n",
       " WindowsPath('C:/Users/fmark/PycharmProjects/dissertation/data/sensors_characteristics/ТХА (K).csv'),\n",
       " WindowsPath('C:/Users/fmark/PycharmProjects/dissertation/data/sensors_characteristics/ТХК (L).csv')]"
      ]
     },
     "execution_count": 15,
     "metadata": {},
     "output_type": "execute_result"
    }
   ],
   "source": [
    "files[10:]"
   ]
  },
  {
   "cell_type": "code",
   "execution_count": 16,
   "id": "072de3c5",
   "metadata": {},
   "outputs": [],
   "source": [
    "thermoresistors = list(files[:10])"
   ]
  },
  {
   "cell_type": "code",
   "execution_count": 17,
   "id": "558a1314",
   "metadata": {},
   "outputs": [
    {
     "data": {
      "text/plain": [
       "<matplotlib.legend.Legend at 0x1912208fe20>"
      ]
     },
     "execution_count": 17,
     "metadata": {},
     "output_type": "execute_result"
    },
    {
     "data": {
      "image/png": "[encoded data removed]",
      "text/plain": [
       "<Figure size 432x288 with 1 Axes>"
      ]
     },
     "metadata": {
      "needs_background": "light"
     },
     "output_type": "display_data"
    }
   ],
   "source": [
    "names = []\n",
    "for file in thermoresistors:\n",
    "    df = pd.read_csv(file)\n",
    "    plt.plot(df[\"temp\"], df[\"value\"])\n",
    "    names.append(file.name.split(\"/\")[-1][:-4])\n",
    "plt.legend(names)"
   ]
  },
  {
   "cell_type": "code",
   "execution_count": 18,
   "id": "50601178",
   "metadata": {},
   "outputs": [],
   "source": [
    "thermocouples = list(files[10:])"
   ]
  },
  {
   "cell_type": "code",
   "execution_count": 20,
   "id": "7abe749c",
   "metadata": {},
   "outputs": [
    {
     "data": {
      "text/plain": [
       "<matplotlib.legend.Legend at 0x19122184370>"
      ]
     },
     "execution_count": 20,
     "metadata": {},
     "output_type": "execute_result"
    },
    {
     "data": {
      "image/png": "[encoded data removed]",
      "text/plain": [
       "<Figure size 432x288 with 1 Axes>"
      ]
     },
     "metadata": {
      "needs_background": "light"
     },
     "output_type": "display_data"
    }
   ],
   "source": [
    "names = []\n",
    "for file in thermocouples:\n",
    "    df = pd.read_csv(file)\n",
    "    plt.plot(df[\"temp\"], df[\"value\"])\n",
    "    names.append(file.name.split(\"/\")[-1][:-4])\n",
    "plt.legend(names)"
   ]
  },
  {
   "cell_type": "code",
   "execution_count": 21,
   "id": "17875266",
   "metadata": {},
   "outputs": [
    {
     "data": {
      "text/plain": [
       "WindowsPath('C:/Users/fmark/PycharmProjects/dissertation/data')"
      ]
     },
     "execution_count": 21,
     "metadata": {},
     "output_type": "execute_result"
    }
   ],
   "source": [
    "data_dir"
   ]
  },
  {
   "cell_type": "code",
   "execution_count": 22,
   "id": "22e4d33b",
   "metadata": {},
   "outputs": [],
   "source": [
    "df = pd.read_csv(data_dir / \"ad8400\" / \"ad8400_020.csv\")"
   ]
  },
  {
   "cell_type": "code",
   "execution_count": 23,
   "id": "eb201819",
   "metadata": {},
   "outputs": [
    {
     "data": {
      "text/html": [
       "<div>\n",
       "<style scoped>\n",
       "    .dataframe tbody tr th:only-of-type {\n",
       "        vertical-align: middle;\n",
       "    }\n",
       "\n",
       "    .dataframe tbody tr th {\n",
       "        vertical-align: top;\n",
       "    }\n",
       "\n",
       "    .dataframe thead th {\n",
       "        text-align: right;\n",
       "    }\n",
       "</style>\n",
       "<table border=\"1\" class=\"dataframe\">\n",
       "  <thead>\n",
       "    <tr style=\"text-align: right;\">\n",
       "      <th></th>\n",
       "      <th>code</th>\n",
       "      <th>resistance</th>\n",
       "    </tr>\n",
       "  </thead>\n",
       "  <tbody>\n",
       "    <tr>\n",
       "      <th>0</th>\n",
       "      <td>0</td>\n",
       "      <td>45</td>\n",
       "    </tr>\n",
       "    <tr>\n",
       "      <th>1</th>\n",
       "      <td>1</td>\n",
       "      <td>51</td>\n",
       "    </tr>\n",
       "    <tr>\n",
       "      <th>2</th>\n",
       "      <td>2</td>\n",
       "      <td>54</td>\n",
       "    </tr>\n",
       "    <tr>\n",
       "      <th>3</th>\n",
       "      <td>3</td>\n",
       "      <td>61</td>\n",
       "    </tr>\n",
       "    <tr>\n",
       "      <th>4</th>\n",
       "      <td>4</td>\n",
       "      <td>64</td>\n",
       "    </tr>\n",
       "  </tbody>\n",
       "</table>\n",
       "</div>"
      ],
      "text/plain": [
       "   code  resistance\n",
       "0     0          45\n",
       "1     1          51\n",
       "2     2          54\n",
       "3     3          61\n",
       "4     4          64"
      ]
     },
     "execution_count": 23,
     "metadata": {},
     "output_type": "execute_result"
    }
   ],
   "source": [
    "df.head()"
   ]
  },
  {
   "cell_type": "code",
   "execution_count": 24,
   "id": "e7ad3234",
   "metadata": {},
   "outputs": [],
   "source": [
    "codes = list(df[\"code\"])"
   ]
  },
  {
   "cell_type": "code",
   "execution_count": 25,
   "id": "73ff770f",
   "metadata": {},
   "outputs": [],
   "source": [
    "ideal = [(d / 256) * 1000 + 50 for d in codes]"
   ]
  },
  {
   "cell_type": "code",
   "execution_count": 26,
   "id": "bda5ef5d",
   "metadata": {},
   "outputs": [
    {
     "data": {
      "text/plain": [
       "<matplotlib.legend.Legend at 0x191222a0a90>"
      ]
     },
     "execution_count": 26,
     "metadata": {},
     "output_type": "execute_result"
    },
    {
     "data": {
      "image/png": "[encoded data removed]",
      "text/plain": [
       "<Figure size 432x288 with 1 Axes>"
      ]
     },
     "metadata": {
      "needs_background": "light"
     },
     "output_type": "display_data"
    }
   ],
   "source": [
    "plt.xlabel(\"Цифровой код\")\n",
    "plt.ylabel(\"Сопротивление, Ом\")\n",
    "plt.yticks(np.arange(0, 1001, 100), fontsize=8)\n",
    "plt.xticks(np.arange(0, 256, 16), fontsize=8)\n",
    "plt.plot(df[\"code\"], df[\"resistance\"], linewidth=0.5)\n",
    "plt.plot(codes, ideal, linewidth=0.5)\n",
    "plt.legend([\"Реальная характеристика\", \"Идеальная характеристика\"], fontsize=8)"
   ]
  },
  {
   "cell_type": "code",
   "execution_count": 5,
   "id": "85bb8631",
   "metadata": {},
   "outputs": [],
   "source": [
    "df_parallel = pd.read_csv(data_dir / \"ad8400\" / \"parallel.csv\")"
   ]
  },
  {
   "cell_type": "code",
   "execution_count": 6,
   "id": "df80f332",
   "metadata": {},
   "outputs": [
    {
     "data": {
      "text/html": [
       "<div>\n",
       "<style scoped>\n",
       "    .dataframe tbody tr th:only-of-type {\n",
       "        vertical-align: middle;\n",
       "    }\n",
       "\n",
       "    .dataframe tbody tr th {\n",
       "        vertical-align: top;\n",
       "    }\n",
       "\n",
       "    .dataframe thead th {\n",
       "        text-align: right;\n",
       "    }\n",
       "</style>\n",
       "<table border=\"1\" class=\"dataframe\">\n",
       "  <thead>\n",
       "    <tr style=\"text-align: right;\">\n",
       "      <th></th>\n",
       "      <th>resistance</th>\n",
       "      <th>r1_code</th>\n",
       "      <th>r2_code</th>\n",
       "    </tr>\n",
       "  </thead>\n",
       "  <tbody>\n",
       "    <tr>\n",
       "      <th>0</th>\n",
       "      <td>21.51927</td>\n",
       "      <td>0</td>\n",
       "      <td>0</td>\n",
       "    </tr>\n",
       "    <tr>\n",
       "      <th>1</th>\n",
       "      <td>23.01268</td>\n",
       "      <td>0</td>\n",
       "      <td>1</td>\n",
       "    </tr>\n",
       "    <tr>\n",
       "      <th>2</th>\n",
       "      <td>23.09142</td>\n",
       "      <td>1</td>\n",
       "      <td>0</td>\n",
       "    </tr>\n",
       "    <tr>\n",
       "      <th>3</th>\n",
       "      <td>23.59327</td>\n",
       "      <td>0</td>\n",
       "      <td>2</td>\n",
       "    </tr>\n",
       "    <tr>\n",
       "      <th>4</th>\n",
       "      <td>23.90622</td>\n",
       "      <td>2</td>\n",
       "      <td>0</td>\n",
       "    </tr>\n",
       "  </tbody>\n",
       "</table>\n",
       "</div>"
      ],
      "text/plain": [
       "   resistance  r1_code  r2_code\n",
       "0    21.51927        0        0\n",
       "1    23.01268        0        1\n",
       "2    23.09142        1        0\n",
       "3    23.59327        0        2\n",
       "4    23.90622        2        0"
      ]
     },
     "execution_count": 6,
     "metadata": {},
     "output_type": "execute_result"
    }
   ],
   "source": [
    "df_parallel.head()"
   ]
  },
  {
   "cell_type": "code",
   "execution_count": 7,
   "id": "1586ba33",
   "metadata": {},
   "outputs": [],
   "source": [
    "simulated_part = df_parallel[(df_parallel[\"resistance\"] < 150) & (df_parallel[\"resistance\"] > 40)][\"resistance\"]"
   ]
  },
  {
   "cell_type": "code",
   "execution_count": 27,
   "id": "2b0cbc97",
   "metadata": {},
   "outputs": [
    {
     "data": {
      "text/plain": [
       "[<matplotlib.lines.Line2D at 0x1912232a940>]"
      ]
     },
     "execution_count": 27,
     "metadata": {},
     "output_type": "execute_result"
    },
    {
     "data": {
      "image/png": "[encoded data removed]",
      "text/plain": [
       "<Figure size 432x288 with 1 Axes>"
      ]
     },
     "metadata": {
      "needs_background": "light"
     },
     "output_type": "display_data"
    }
   ],
   "source": [
    "plt.xlabel(\"Порядковый номер\")\n",
    "plt.ylabel(\"Сопротивление, Ом\")\n",
    "plt.yticks(np.arange(0, 550, 25), fontsize=8)\n",
    "plt.xticks(np.arange(0, len(simulated_part), 5000), fontsize=8)\n",
    "plt.plot(simulated_part, linewidth=0.5)"
   ]
  },
  {
   "cell_type": "code",
   "execution_count": null,
   "id": "6ad6f088",
   "metadata": {},
   "outputs": [],
   "source": []
  }
 ],
 "metadata": {
  "kernelspec": {
   "display_name": "Python 3 (ipykernel)",
   "language": "python",
   "name": "python3"
  },
  "language_info": {
   "codemirror_mode": {
    "name": "ipython",
    "version": 3
   },
   "file_extension": ".py",
   "mimetype": "text/x-python",
   "name": "python",
   "nbconvert_exporter": "python",
   "pygments_lexer": "ipython3",
   "version": "3.9.0"
  }
 },
 "nbformat": 4,
 "nbformat_minor": 5
}
