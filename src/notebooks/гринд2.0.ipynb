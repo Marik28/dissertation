{
 "cells": [
  {
   "cell_type": "code",
   "execution_count": 1,
   "id": "11998f7e",
   "metadata": {},
   "outputs": [],
   "source": [
    "import numpy as np\n",
    "import pandas as pd\n",
    "import matplotlib.pyplot as plt\n",
    "\n",
    "# patching\n",
    "import sys\n",
    "from pathlib import Path\n",
    "sys.path.insert(0, str(Path.cwd().parent))\n",
    "\n",
    "# can now import files normally"
   ]
  },
  {
   "cell_type": "code",
   "execution_count": 3,
   "id": "4c87a41f",
   "metadata": {},
   "outputs": [],
   "source": [
    "df_045 = pd.read_excel(\"../../data/ad8400/Характеристика_ad8400_045 (1).xlsx\")"
   ]
  },
  {
   "cell_type": "code",
   "execution_count": 4,
   "id": "b5a75d1d",
   "metadata": {},
   "outputs": [
    {
     "data": {
      "text/html": [
       "<div>\n",
       "<style scoped>\n",
       "    .dataframe tbody tr th:only-of-type {\n",
       "        vertical-align: middle;\n",
       "    }\n",
       "\n",
       "    .dataframe tbody tr th {\n",
       "        vertical-align: top;\n",
       "    }\n",
       "\n",
       "    .dataframe thead th {\n",
       "        text-align: right;\n",
       "    }\n",
       "</style>\n",
       "<table border=\"1\" class=\"dataframe\">\n",
       "  <thead>\n",
       "    <tr style=\"text-align: right;\">\n",
       "      <th></th>\n",
       "      <th>code</th>\n",
       "      <th>resistance</th>\n",
       "    </tr>\n",
       "  </thead>\n",
       "  <tbody>\n",
       "    <tr>\n",
       "      <th>0</th>\n",
       "      <td>0</td>\n",
       "      <td>42.79</td>\n",
       "    </tr>\n",
       "    <tr>\n",
       "      <th>1</th>\n",
       "      <td>1</td>\n",
       "      <td>49.49</td>\n",
       "    </tr>\n",
       "    <tr>\n",
       "      <th>2</th>\n",
       "      <td>2</td>\n",
       "      <td>53.39</td>\n",
       "    </tr>\n",
       "    <tr>\n",
       "      <th>3</th>\n",
       "      <td>3</td>\n",
       "      <td>58.39</td>\n",
       "    </tr>\n",
       "    <tr>\n",
       "      <th>4</th>\n",
       "      <td>4</td>\n",
       "      <td>62.30</td>\n",
       "    </tr>\n",
       "    <tr>\n",
       "      <th>...</th>\n",
       "      <td>...</td>\n",
       "      <td>...</td>\n",
       "    </tr>\n",
       "    <tr>\n",
       "      <th>251</th>\n",
       "      <td>251</td>\n",
       "      <td>1145.00</td>\n",
       "    </tr>\n",
       "    <tr>\n",
       "      <th>252</th>\n",
       "      <td>252</td>\n",
       "      <td>1149.00</td>\n",
       "    </tr>\n",
       "    <tr>\n",
       "      <th>253</th>\n",
       "      <td>253</td>\n",
       "      <td>1154.00</td>\n",
       "    </tr>\n",
       "    <tr>\n",
       "      <th>254</th>\n",
       "      <td>254</td>\n",
       "      <td>1158.00</td>\n",
       "    </tr>\n",
       "    <tr>\n",
       "      <th>255</th>\n",
       "      <td>255</td>\n",
       "      <td>1163.00</td>\n",
       "    </tr>\n",
       "  </tbody>\n",
       "</table>\n",
       "<p>256 rows × 2 columns</p>\n",
       "</div>"
      ],
      "text/plain": [
       "     code  resistance\n",
       "0       0       42.79\n",
       "1       1       49.49\n",
       "2       2       53.39\n",
       "3       3       58.39\n",
       "4       4       62.30\n",
       "..    ...         ...\n",
       "251   251     1145.00\n",
       "252   252     1149.00\n",
       "253   253     1154.00\n",
       "254   254     1158.00\n",
       "255   255     1163.00\n",
       "\n",
       "[256 rows x 2 columns]"
      ]
     },
     "execution_count": 4,
     "metadata": {},
     "output_type": "execute_result"
    }
   ],
   "source": [
    "df_045"
   ]
  },
  {
   "cell_type": "code",
   "execution_count": 5,
   "id": "ce40a717",
   "metadata": {},
   "outputs": [],
   "source": [
    "df_020 = pd.read_excel(\"../../data/ad8400/Характеристика_ad8400_020 (1).xlsx\")"
   ]
  },
  {
   "cell_type": "code",
   "execution_count": 20,
   "id": "44ade0c6",
   "metadata": {},
   "outputs": [
    {
     "data": {
      "text/plain": [
       "[<matplotlib.lines.Line2D at 0x7fb1f25cab10>]"
      ]
     },
     "execution_count": 20,
     "metadata": {},
     "output_type": "execute_result"
    },
    {
     "data": {
      "image/png": "[encoded data removed]",
      "text/plain": [
       "<Figure size 432x288 with 1 Axes>"
      ]
     },
     "metadata": {
      "needs_background": "light"
     },
     "output_type": "display_data"
    }
   ],
   "source": [
    "plt.xlabel(\"Код\")\n",
    "plt.ylabel(\"Сопротивление, Ом\")\n",
    "plt.plot(df_020[\"code\"], df_020[\"resistance\"], label=\"asdasd\")"
   ]
  },
  {
   "cell_type": "code",
   "execution_count": 19,
   "id": "aa9f7767",
   "metadata": {},
   "outputs": [
    {
     "data": {
      "text/plain": [
       "[<matplotlib.lines.Line2D at 0x7fb1ed6fe9d0>]"
      ]
     },
     "execution_count": 19,
     "metadata": {},
     "output_type": "execute_result"
    },
    {
     "data": {
      "image/png": "[encoded data removed]",
      "text/plain": [
       "<Figure size 432x288 with 1 Axes>"
      ]
     },
     "metadata": {
      "needs_background": "light"
     },
     "output_type": "display_data"
    }
   ],
   "source": [
    "plt.xlabel(\"Код\")\n",
    "plt.ylabel(\"Сопротивление, Ом\")\n",
    "plt.plot(df_045[\"code\"], df_045[\"resistance\"])"
   ]
  },
  {
   "cell_type": "code",
   "execution_count": 10,
   "id": "0de644a1",
   "metadata": {},
   "outputs": [],
   "source": [
    "resistances = []\n",
    "r1_codes = []\n",
    "r2_codes = []\n",
    "\n",
    "for _, r1 in df_045.iterrows():\n",
    "    for _, r2 in df_020.iterrows():\n",
    "            resistance = round((r1[\"resistance\"] * r2[\"resistance\"]) / (r1[\"resistance\"] + r2[\"resistance\"]), 5)\n",
    "            resistances.append(resistance)\n",
    "            r1_code = int(r1[\"code\"])\n",
    "            r1_codes.append(r1_code)\n",
    "            r2_code = int(r2[\"code\"])\n",
    "            r2_codes.append(r2_code)\n",
    "\n",
    "resistances_df = pd.DataFrame(\n",
    "    {\n",
    "        \"resistance\": resistances,\n",
    "        \"r1_code\": r1_codes,\n",
    "        \"r2_code\": r2_codes,\n",
    "    }\n",
    ")\n",
    "\n",
    "del resistances\n",
    "del r1_codes\n",
    "del r2_codes"
   ]
  },
  {
   "cell_type": "code",
   "execution_count": 13,
   "id": "4e75100c",
   "metadata": {},
   "outputs": [],
   "source": [
    "resistances_df = resistances_df.sort_values(by=[\"resistance\"])"
   ]
  },
  {
   "cell_type": "code",
   "execution_count": 14,
   "id": "e702c2a2",
   "metadata": {},
   "outputs": [
    {
     "data": {
      "text/plain": [
       "[<matplotlib.lines.Line2D at 0x7fb1edf179d0>]"
      ]
     },
     "execution_count": 14,
     "metadata": {},
     "output_type": "execute_result"
    },
    {
     "data": {
      "image/png": "[encoded data removed]",
      "text/plain": [
       "<Figure size 432x288 with 1 Axes>"
      ]
     },
     "metadata": {
      "needs_background": "light"
     },
     "output_type": "display_data"
    }
   ],
   "source": [
    "plt.plot(list(resistances_df[\"resistance\"]))"
   ]
  },
  {
   "cell_type": "code",
   "execution_count": 8,
   "id": "7ccc1d8a",
   "metadata": {},
   "outputs": [],
   "source": [
    "from typing import Iterable\n",
    "from numbers import Number\n",
    "from utils.utils import find_nearest\n",
    "\n",
    "\n",
    "def create_dataframe(\n",
    "        path_to_resistance_thermometer,\n",
    "        possible_values: pd.DataFrame,\n",
    "        digipot1_data: pd.DataFrame,\n",
    "        digipot2_data: pd.DataFrame,\n",
    ") -> pd.DataFrame:\n",
    "    df = pd.read_csv(path_to_resistance_thermometer)\n",
    "    df[\"calc\"] = df[\"R\"].apply(lambda x: find_nearest(possible_values[\"resistance\"], x))\n",
    "    df[\"error\"] = abs(df[\"R\"] - df[\"calc\"])\n",
    "    df[\"R1_code\"] = df[\"calc\"].apply(lambda x: int(possible_values[possible_values[\"resistance\"] == x].iloc[0][\"r1_code\"]))\n",
    "    df[\"R2_code\"] = df[\"calc\"].apply(lambda x: int(possible_values[possible_values[\"resistance\"] == x].iloc[0][\"r2_code\"]))\n",
    "    df[\"R1\"] = df[\"R1_code\"].apply(lambda x: digipot1_data[digipot1_data[\"code\"] == x].iloc[0][\"resistance\"])\n",
    "    df[\"R2\"] = df[\"R2_code\"].apply(lambda x: digipot2_data[digipot2_data[\"code\"] == x].iloc[0][\"resistance\"])\n",
    "    return df"
   ]
  },
  {
   "cell_type": "code",
   "execution_count": 15,
   "id": "5eac393f",
   "metadata": {},
   "outputs": [],
   "source": [
    "df_50m = create_dataframe(\"../../data/sensors_characteristics/50М.csv\", resistances_df, df_045, df_020)"
   ]
  },
  {
   "cell_type": "code",
   "execution_count": 16,
   "id": "268b5f0a",
   "metadata": {},
   "outputs": [
    {
     "data": {
      "text/html": [
       "<div>\n",
       "<style scoped>\n",
       "    .dataframe tbody tr th:only-of-type {\n",
       "        vertical-align: middle;\n",
       "    }\n",
       "\n",
       "    .dataframe tbody tr th {\n",
       "        vertical-align: top;\n",
       "    }\n",
       "\n",
       "    .dataframe thead th {\n",
       "        text-align: right;\n",
       "    }\n",
       "</style>\n",
       "<table border=\"1\" class=\"dataframe\">\n",
       "  <thead>\n",
       "    <tr style=\"text-align: right;\">\n",
       "      <th></th>\n",
       "      <th>T</th>\n",
       "      <th>R</th>\n",
       "      <th>calc</th>\n",
       "      <th>error</th>\n",
       "      <th>R1_code</th>\n",
       "      <th>R2_code</th>\n",
       "      <th>R1</th>\n",
       "      <th>R2</th>\n",
       "    </tr>\n",
       "  </thead>\n",
       "  <tbody>\n",
       "    <tr>\n",
       "      <th>0</th>\n",
       "      <td>-50</td>\n",
       "      <td>39.30</td>\n",
       "      <td>39.29435</td>\n",
       "      <td>0.00565</td>\n",
       "      <td>0</td>\n",
       "      <td>113</td>\n",
       "      <td>42.79</td>\n",
       "      <td>481.00</td>\n",
       "    </tr>\n",
       "    <tr>\n",
       "      <th>1</th>\n",
       "      <td>-49</td>\n",
       "      <td>39.51</td>\n",
       "      <td>39.50743</td>\n",
       "      <td>0.00257</td>\n",
       "      <td>0</td>\n",
       "      <td>122</td>\n",
       "      <td>42.79</td>\n",
       "      <td>515.00</td>\n",
       "    </tr>\n",
       "    <tr>\n",
       "      <th>2</th>\n",
       "      <td>-48</td>\n",
       "      <td>39.73</td>\n",
       "      <td>39.72240</td>\n",
       "      <td>0.00760</td>\n",
       "      <td>100</td>\n",
       "      <td>0</td>\n",
       "      <td>482.00</td>\n",
       "      <td>43.29</td>\n",
       "    </tr>\n",
       "    <tr>\n",
       "      <th>3</th>\n",
       "      <td>-47</td>\n",
       "      <td>39.94</td>\n",
       "      <td>39.94127</td>\n",
       "      <td>0.00127</td>\n",
       "      <td>7</td>\n",
       "      <td>10</td>\n",
       "      <td>76.49</td>\n",
       "      <td>83.59</td>\n",
       "    </tr>\n",
       "    <tr>\n",
       "      <th>4</th>\n",
       "      <td>-46</td>\n",
       "      <td>40.16</td>\n",
       "      <td>40.15810</td>\n",
       "      <td>0.00190</td>\n",
       "      <td>0</td>\n",
       "      <td>158</td>\n",
       "      <td>42.79</td>\n",
       "      <td>652.90</td>\n",
       "    </tr>\n",
       "    <tr>\n",
       "      <th>...</th>\n",
       "      <td>...</td>\n",
       "      <td>...</td>\n",
       "      <td>...</td>\n",
       "      <td>...</td>\n",
       "      <td>...</td>\n",
       "      <td>...</td>\n",
       "      <td>...</td>\n",
       "      <td>...</td>\n",
       "    </tr>\n",
       "    <tr>\n",
       "      <th>146</th>\n",
       "      <td>96</td>\n",
       "      <td>70.54</td>\n",
       "      <td>70.54113</td>\n",
       "      <td>0.00113</td>\n",
       "      <td>70</td>\n",
       "      <td>11</td>\n",
       "      <td>350.90</td>\n",
       "      <td>88.29</td>\n",
       "    </tr>\n",
       "    <tr>\n",
       "      <th>147</th>\n",
       "      <td>97</td>\n",
       "      <td>70.76</td>\n",
       "      <td>70.75964</td>\n",
       "      <td>0.00036</td>\n",
       "      <td>95</td>\n",
       "      <td>10</td>\n",
       "      <td>461.00</td>\n",
       "      <td>83.59</td>\n",
       "    </tr>\n",
       "    <tr>\n",
       "      <th>148</th>\n",
       "      <td>98</td>\n",
       "      <td>70.97</td>\n",
       "      <td>70.97283</td>\n",
       "      <td>0.00283</td>\n",
       "      <td>11</td>\n",
       "      <td>64</td>\n",
       "      <td>94.29</td>\n",
       "      <td>287.00</td>\n",
       "    </tr>\n",
       "    <tr>\n",
       "      <th>149</th>\n",
       "      <td>99</td>\n",
       "      <td>71.19</td>\n",
       "      <td>71.19279</td>\n",
       "      <td>0.00279</td>\n",
       "      <td>7</td>\n",
       "      <td>255</td>\n",
       "      <td>76.49</td>\n",
       "      <td>1028.00</td>\n",
       "    </tr>\n",
       "    <tr>\n",
       "      <th>150</th>\n",
       "      <td>100</td>\n",
       "      <td>71.40</td>\n",
       "      <td>71.39147</td>\n",
       "      <td>0.00853</td>\n",
       "      <td>75</td>\n",
       "      <td>11</td>\n",
       "      <td>373.00</td>\n",
       "      <td>88.29</td>\n",
       "    </tr>\n",
       "  </tbody>\n",
       "</table>\n",
       "<p>151 rows × 8 columns</p>\n",
       "</div>"
      ],
      "text/plain": [
       "       T      R      calc    error  R1_code  R2_code      R1       R2\n",
       "0    -50  39.30  39.29435  0.00565        0      113   42.79   481.00\n",
       "1    -49  39.51  39.50743  0.00257        0      122   42.79   515.00\n",
       "2    -48  39.73  39.72240  0.00760      100        0  482.00    43.29\n",
       "3    -47  39.94  39.94127  0.00127        7       10   76.49    83.59\n",
       "4    -46  40.16  40.15810  0.00190        0      158   42.79   652.90\n",
       "..   ...    ...       ...      ...      ...      ...     ...      ...\n",
       "146   96  70.54  70.54113  0.00113       70       11  350.90    88.29\n",
       "147   97  70.76  70.75964  0.00036       95       10  461.00    83.59\n",
       "148   98  70.97  70.97283  0.00283       11       64   94.29   287.00\n",
       "149   99  71.19  71.19279  0.00279        7      255   76.49  1028.00\n",
       "150  100  71.40  71.39147  0.00853       75       11  373.00    88.29\n",
       "\n",
       "[151 rows x 8 columns]"
      ]
     },
     "execution_count": 16,
     "metadata": {},
     "output_type": "execute_result"
    }
   ],
   "source": [
    "df_50m"
   ]
  },
  {
   "cell_type": "code",
   "execution_count": 54,
   "id": "44996bca",
   "metadata": {},
   "outputs": [
    {
     "data": {
      "text/plain": [
       "dtype('int64')"
      ]
     },
     "execution_count": 54,
     "metadata": {},
     "output_type": "execute_result"
    }
   ],
   "source": [
    "df_50m[\"R1_code\"].dtype"
   ]
  },
  {
   "cell_type": "code",
   "execution_count": 49,
   "id": "1786ae93",
   "metadata": {},
   "outputs": [],
   "source": [
    "# resistances_df.to_csv(\"../../data/ad8400/parallel.csv\", index=False)"
   ]
  },
  {
   "cell_type": "code",
   "execution_count": 17,
   "id": "221bf4cc",
   "metadata": {},
   "outputs": [
    {
     "data": {
      "text/html": [
       "<div>\n",
       "<style scoped>\n",
       "    .dataframe tbody tr th:only-of-type {\n",
       "        vertical-align: middle;\n",
       "    }\n",
       "\n",
       "    .dataframe tbody tr th {\n",
       "        vertical-align: top;\n",
       "    }\n",
       "\n",
       "    .dataframe thead th {\n",
       "        text-align: right;\n",
       "    }\n",
       "</style>\n",
       "<table border=\"1\" class=\"dataframe\">\n",
       "  <thead>\n",
       "    <tr style=\"text-align: right;\">\n",
       "      <th></th>\n",
       "      <th>T</th>\n",
       "      <th>R</th>\n",
       "      <th>calc</th>\n",
       "      <th>error</th>\n",
       "      <th>R1_code</th>\n",
       "      <th>R2_code</th>\n",
       "      <th>R1</th>\n",
       "      <th>R2</th>\n",
       "    </tr>\n",
       "  </thead>\n",
       "  <tbody>\n",
       "    <tr>\n",
       "      <th>0</th>\n",
       "      <td>-50</td>\n",
       "      <td>39.30</td>\n",
       "      <td>39.29435</td>\n",
       "      <td>0.00565</td>\n",
       "      <td>0</td>\n",
       "      <td>113</td>\n",
       "      <td>42.79</td>\n",
       "      <td>481.00</td>\n",
       "    </tr>\n",
       "    <tr>\n",
       "      <th>1</th>\n",
       "      <td>-49</td>\n",
       "      <td>39.51</td>\n",
       "      <td>39.50743</td>\n",
       "      <td>0.00257</td>\n",
       "      <td>0</td>\n",
       "      <td>122</td>\n",
       "      <td>42.79</td>\n",
       "      <td>515.00</td>\n",
       "    </tr>\n",
       "    <tr>\n",
       "      <th>2</th>\n",
       "      <td>-48</td>\n",
       "      <td>39.73</td>\n",
       "      <td>39.72240</td>\n",
       "      <td>0.00760</td>\n",
       "      <td>100</td>\n",
       "      <td>0</td>\n",
       "      <td>482.00</td>\n",
       "      <td>43.29</td>\n",
       "    </tr>\n",
       "    <tr>\n",
       "      <th>3</th>\n",
       "      <td>-47</td>\n",
       "      <td>39.94</td>\n",
       "      <td>39.94127</td>\n",
       "      <td>0.00127</td>\n",
       "      <td>7</td>\n",
       "      <td>10</td>\n",
       "      <td>76.49</td>\n",
       "      <td>83.59</td>\n",
       "    </tr>\n",
       "    <tr>\n",
       "      <th>4</th>\n",
       "      <td>-46</td>\n",
       "      <td>40.16</td>\n",
       "      <td>40.15810</td>\n",
       "      <td>0.00190</td>\n",
       "      <td>0</td>\n",
       "      <td>158</td>\n",
       "      <td>42.79</td>\n",
       "      <td>652.90</td>\n",
       "    </tr>\n",
       "    <tr>\n",
       "      <th>...</th>\n",
       "      <td>...</td>\n",
       "      <td>...</td>\n",
       "      <td>...</td>\n",
       "      <td>...</td>\n",
       "      <td>...</td>\n",
       "      <td>...</td>\n",
       "      <td>...</td>\n",
       "      <td>...</td>\n",
       "    </tr>\n",
       "    <tr>\n",
       "      <th>146</th>\n",
       "      <td>96</td>\n",
       "      <td>70.54</td>\n",
       "      <td>70.54113</td>\n",
       "      <td>0.00113</td>\n",
       "      <td>70</td>\n",
       "      <td>11</td>\n",
       "      <td>350.90</td>\n",
       "      <td>88.29</td>\n",
       "    </tr>\n",
       "    <tr>\n",
       "      <th>147</th>\n",
       "      <td>97</td>\n",
       "      <td>70.76</td>\n",
       "      <td>70.75964</td>\n",
       "      <td>0.00036</td>\n",
       "      <td>95</td>\n",
       "      <td>10</td>\n",
       "      <td>461.00</td>\n",
       "      <td>83.59</td>\n",
       "    </tr>\n",
       "    <tr>\n",
       "      <th>148</th>\n",
       "      <td>98</td>\n",
       "      <td>70.97</td>\n",
       "      <td>70.97283</td>\n",
       "      <td>0.00283</td>\n",
       "      <td>11</td>\n",
       "      <td>64</td>\n",
       "      <td>94.29</td>\n",
       "      <td>287.00</td>\n",
       "    </tr>\n",
       "    <tr>\n",
       "      <th>149</th>\n",
       "      <td>99</td>\n",
       "      <td>71.19</td>\n",
       "      <td>71.19279</td>\n",
       "      <td>0.00279</td>\n",
       "      <td>7</td>\n",
       "      <td>255</td>\n",
       "      <td>76.49</td>\n",
       "      <td>1028.00</td>\n",
       "    </tr>\n",
       "    <tr>\n",
       "      <th>150</th>\n",
       "      <td>100</td>\n",
       "      <td>71.40</td>\n",
       "      <td>71.39147</td>\n",
       "      <td>0.00853</td>\n",
       "      <td>75</td>\n",
       "      <td>11</td>\n",
       "      <td>373.00</td>\n",
       "      <td>88.29</td>\n",
       "    </tr>\n",
       "  </tbody>\n",
       "</table>\n",
       "<p>151 rows × 8 columns</p>\n",
       "</div>"
      ],
      "text/plain": [
       "       T      R      calc    error  R1_code  R2_code      R1       R2\n",
       "0    -50  39.30  39.29435  0.00565        0      113   42.79   481.00\n",
       "1    -49  39.51  39.50743  0.00257        0      122   42.79   515.00\n",
       "2    -48  39.73  39.72240  0.00760      100        0  482.00    43.29\n",
       "3    -47  39.94  39.94127  0.00127        7       10   76.49    83.59\n",
       "4    -46  40.16  40.15810  0.00190        0      158   42.79   652.90\n",
       "..   ...    ...       ...      ...      ...      ...     ...      ...\n",
       "146   96  70.54  70.54113  0.00113       70       11  350.90    88.29\n",
       "147   97  70.76  70.75964  0.00036       95       10  461.00    83.59\n",
       "148   98  70.97  70.97283  0.00283       11       64   94.29   287.00\n",
       "149   99  71.19  71.19279  0.00279        7      255   76.49  1028.00\n",
       "150  100  71.40  71.39147  0.00853       75       11  373.00    88.29\n",
       "\n",
       "[151 rows x 8 columns]"
      ]
     },
     "execution_count": 17,
     "metadata": {},
     "output_type": "execute_result"
    }
   ],
   "source": [
    "df_50m"
   ]
  },
  {
   "cell_type": "code",
   "execution_count": null,
   "id": "11e1a9aa",
   "metadata": {},
   "outputs": [],
   "source": []
  }
 ],
 "metadata": {
  "kernelspec": {
   "display_name": "Python 3 (ipykernel)",
   "language": "python",
   "name": "python3"
  },
  "language_info": {
   "codemirror_mode": {
    "name": "ipython",
    "version": 3
   },
   "file_extension": ".py",
   "mimetype": "text/x-python",
   "name": "python",
   "nbconvert_exporter": "python",
   "pygments_lexer": "ipython3",
   "version": "3.7.12"
  }
 },
 "nbformat": 4,
 "nbformat_minor": 5
}
