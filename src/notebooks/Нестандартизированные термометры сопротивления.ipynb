{
 "cells": [
  {
   "cell_type": "code",
   "execution_count": 1,
   "id": "00171f86",
   "metadata": {},
   "outputs": [],
   "source": [
    "import numpy as np\n",
    "import pandas as pd\n",
    "import matplotlib.pyplot as plt\n",
    "\n",
    "# patching\n",
    "import sys\n",
    "from pathlib import Path\n",
    "sys.path.insert(0, str(Path.cwd().parent))\n",
    "\n",
    "\n",
    "from utils.utils import fill_empty_temperatures"
   ]
  },
  {
   "cell_type": "code",
   "execution_count": 49,
   "id": "b71cee39",
   "metadata": {},
   "outputs": [],
   "source": [
    "path = Path(\".\").resolve().parent.parent / \"data\" / \"sensors_characteristics\""
   ]
  },
  {
   "cell_type": "code",
   "execution_count": 50,
   "id": "852104bf",
   "metadata": {},
   "outputs": [
    {
     "data": {
      "text/plain": [
       "WindowsPath('C:/Users/fmark/PycharmProjects/dissertation/data/sensors_characteristics')"
      ]
     },
     "execution_count": 50,
     "metadata": {},
     "output_type": "execute_result"
    }
   ],
   "source": [
    "path"
   ]
  },
  {
   "cell_type": "code",
   "execution_count": 51,
   "id": "2daee10f",
   "metadata": {},
   "outputs": [],
   "source": [
    "for file in path.iterdir():\n",
    "    if file.name.endswith(\"_raw.csv\"):\n",
    "        df_raw = pd.read_csv(file)\n",
    "        df = fill_empty_temperatures(df_raw, \"temp\", \"value\")\n",
    "        df.to_csv(path / f\"{file.name.split('_')[0]}.csv\", index=False)"
   ]
  },
  {
   "cell_type": "code",
   "execution_count": 8,
   "id": "f797ae0b",
   "metadata": {},
   "outputs": [],
   "source": [
    "df = pd.read_html(data_dir / \"sensors_characteristics\" / \"non-standart.html\", encoding='utf-8')[0]"
   ]
  },
  {
   "cell_type": "code",
   "execution_count": 14,
   "id": "405cb945",
   "metadata": {
    "scrolled": false
   },
   "outputs": [],
   "source": [
    "df.rename(columns={0: \"Температура\", 1: \"Cu100\", 2: \"Cu50\", 3: \"Cu10\", 4: \"Ni-Iron 604\", 5: \"Ni-Iron 507.5\", 6: \"Ni 120\"}, inplace=True)"
   ]
  },
  {
   "cell_type": "code",
   "execution_count": 17,
   "id": "b8adde8c",
   "metadata": {},
   "outputs": [],
   "source": [
    "df = df.iloc[3:]"
   ]
  },
  {
   "cell_type": "code",
   "execution_count": 21,
   "id": "87038bff",
   "metadata": {},
   "outputs": [
    {
     "name": "stderr",
     "output_type": "stream",
     "text": [
      "C:\\Users\\fmark\\AppData\\Local\\Temp\\ipykernel_4068\\3279115245.py:1: SettingWithCopyWarning: \n",
      "A value is trying to be set on a copy of a slice from a DataFrame.\n",
      "Try using .loc[row_indexer,col_indexer] = value instead\n",
      "\n",
      "See the caveats in the documentation: https://pandas.pydata.org/pandas-docs/stable/user_guide/indexing.html#returning-a-view-versus-a-copy\n",
      "  df[\"Температура\"] = df[\"Температура\"].apply(lambda x: int(x.replace(\"°С\", \"\")))\n"
     ]
    }
   ],
   "source": [
    "df[\"Температура\"] = df[\"Температура\"].apply(lambda x: int(x.replace(\"°С\", \"\")))"
   ]
  },
  {
   "cell_type": "code",
   "execution_count": 22,
   "id": "6c6a8457",
   "metadata": {},
   "outputs": [
    {
     "data": {
      "text/html": [
       "<div>\n",
       "<style scoped>\n",
       "    .dataframe tbody tr th:only-of-type {\n",
       "        vertical-align: middle;\n",
       "    }\n",
       "\n",
       "    .dataframe tbody tr th {\n",
       "        vertical-align: top;\n",
       "    }\n",
       "\n",
       "    .dataframe thead th {\n",
       "        text-align: right;\n",
       "    }\n",
       "</style>\n",
       "<table border=\"1\" class=\"dataframe\">\n",
       "  <thead>\n",
       "    <tr style=\"text-align: right;\">\n",
       "      <th></th>\n",
       "      <th>Температура</th>\n",
       "      <th>Cu100</th>\n",
       "      <th>Cu50</th>\n",
       "      <th>Cu10</th>\n",
       "      <th>Ni-Iron 604</th>\n",
       "      <th>Ni-Iron 507.5</th>\n",
       "      <th>Ni 120</th>\n",
       "    </tr>\n",
       "  </thead>\n",
       "  <tbody>\n",
       "    <tr>\n",
       "      <th>3</th>\n",
       "      <td>-200</td>\n",
       "      <td>10.580</td>\n",
       "      <td>5.290</td>\n",
       "      <td>1.058</td>\n",
       "      <td>245.34</td>\n",
       "      <td>NaN</td>\n",
       "      <td>NaN</td>\n",
       "    </tr>\n",
       "    <tr>\n",
       "      <th>4</th>\n",
       "      <td>-180</td>\n",
       "      <td>18.840</td>\n",
       "      <td>9.420</td>\n",
       "      <td>1.884</td>\n",
       "      <td>262.53</td>\n",
       "      <td>NaN</td>\n",
       "      <td>NaN</td>\n",
       "    </tr>\n",
       "    <tr>\n",
       "      <th>5</th>\n",
       "      <td>-160</td>\n",
       "      <td>27.050</td>\n",
       "      <td>13.525</td>\n",
       "      <td>2.705</td>\n",
       "      <td>283.87</td>\n",
       "      <td>NaN</td>\n",
       "      <td>NaN</td>\n",
       "    </tr>\n",
       "    <tr>\n",
       "      <th>6</th>\n",
       "      <td>-150</td>\n",
       "      <td>31.130</td>\n",
       "      <td>15.565</td>\n",
       "      <td>3.113</td>\n",
       "      <td>296.10</td>\n",
       "      <td>NaN</td>\n",
       "      <td>NaN</td>\n",
       "    </tr>\n",
       "    <tr>\n",
       "      <th>7</th>\n",
       "      <td>-140</td>\n",
       "      <td>35.190</td>\n",
       "      <td>17.595</td>\n",
       "      <td>3.519</td>\n",
       "      <td>309.36</td>\n",
       "      <td>NaN</td>\n",
       "      <td>NaN</td>\n",
       "    </tr>\n",
       "    <tr>\n",
       "      <th>...</th>\n",
       "      <td>...</td>\n",
       "      <td>...</td>\n",
       "      <td>...</td>\n",
       "      <td>...</td>\n",
       "      <td>...</td>\n",
       "      <td>...</td>\n",
       "      <td>...</td>\n",
       "    </tr>\n",
       "    <tr>\n",
       "      <th>72</th>\n",
       "      <td>240</td>\n",
       "      <td>183.350</td>\n",
       "      <td>91.675</td>\n",
       "      <td>18.335</td>\n",
       "      <td>NaN</td>\n",
       "      <td>1 249.48</td>\n",
       "      <td>353.14</td>\n",
       "    </tr>\n",
       "    <tr>\n",
       "      <th>73</th>\n",
       "      <td>245</td>\n",
       "      <td>185.300</td>\n",
       "      <td>92.650</td>\n",
       "      <td>18.530</td>\n",
       "      <td>NaN</td>\n",
       "      <td>1 268.90</td>\n",
       "      <td>359.79</td>\n",
       "    </tr>\n",
       "    <tr>\n",
       "      <th>74</th>\n",
       "      <td>250</td>\n",
       "      <td>187.260</td>\n",
       "      <td>93.630</td>\n",
       "      <td>18.726</td>\n",
       "      <td>NaN</td>\n",
       "      <td>1 288.49</td>\n",
       "      <td>366.53</td>\n",
       "    </tr>\n",
       "    <tr>\n",
       "      <th>75</th>\n",
       "      <td>255</td>\n",
       "      <td>189.210</td>\n",
       "      <td>94.605</td>\n",
       "      <td>18.921</td>\n",
       "      <td>NaN</td>\n",
       "      <td>1 308.24</td>\n",
       "      <td>373.37</td>\n",
       "    </tr>\n",
       "    <tr>\n",
       "      <th>76</th>\n",
       "      <td>260</td>\n",
       "      <td>191.160</td>\n",
       "      <td>95.580</td>\n",
       "      <td>19.116</td>\n",
       "      <td>NaN</td>\n",
       "      <td>1 328.16</td>\n",
       "      <td>380.31</td>\n",
       "    </tr>\n",
       "  </tbody>\n",
       "</table>\n",
       "<p>74 rows × 7 columns</p>\n",
       "</div>"
      ],
      "text/plain": [
       "    Температура    Cu100    Cu50    Cu10 Ni-Iron 604 Ni-Iron 507.5  Ni 120\n",
       "3          -200   10.580   5.290   1.058      245.34           NaN     NaN\n",
       "4          -180   18.840   9.420   1.884      262.53           NaN     NaN\n",
       "5          -160   27.050  13.525   2.705      283.87           NaN     NaN\n",
       "6          -150   31.130  15.565   3.113      296.10           NaN     NaN\n",
       "7          -140   35.190  17.595   3.519      309.36           NaN     NaN\n",
       "..          ...      ...     ...     ...         ...           ...     ...\n",
       "72          240  183.350  91.675  18.335         NaN      1 249.48  353.14\n",
       "73          245  185.300  92.650  18.530         NaN      1 268.90  359.79\n",
       "74          250  187.260  93.630  18.726         NaN      1 288.49  366.53\n",
       "75          255  189.210  94.605  18.921         NaN      1 308.24  373.37\n",
       "76          260  191.160  95.580  19.116         NaN      1 328.16  380.31\n",
       "\n",
       "[74 rows x 7 columns]"
      ]
     },
     "execution_count": 22,
     "metadata": {},
     "output_type": "execute_result"
    }
   ],
   "source": [
    "df"
   ]
  },
  {
   "cell_type": "code",
   "execution_count": 32,
   "id": "eb4928b2",
   "metadata": {},
   "outputs": [],
   "source": [
    "df_cu_50_raw = pd.DataFrame({\"temp\": df[\"Температура\"], \"value\": df[\"Cu50\"]})"
   ]
  },
  {
   "cell_type": "code",
   "execution_count": 33,
   "id": "f82bd9bd",
   "metadata": {},
   "outputs": [],
   "source": [
    "df_cu_50_raw[\"value\"] = df_cu_50_raw[\"value\"].apply(float)"
   ]
  },
  {
   "cell_type": "code",
   "execution_count": 34,
   "id": "edfe142d",
   "metadata": {},
   "outputs": [],
   "source": [
    "df_cu_50 = fill_empty_temperatures(df_cu_50_raw, \"temp\", \"value\")"
   ]
  },
  {
   "cell_type": "code",
   "execution_count": 35,
   "id": "c00df971",
   "metadata": {},
   "outputs": [
    {
     "data": {
      "text/html": [
       "<div>\n",
       "<style scoped>\n",
       "    .dataframe tbody tr th:only-of-type {\n",
       "        vertical-align: middle;\n",
       "    }\n",
       "\n",
       "    .dataframe tbody tr th {\n",
       "        vertical-align: top;\n",
       "    }\n",
       "\n",
       "    .dataframe thead th {\n",
       "        text-align: right;\n",
       "    }\n",
       "</style>\n",
       "<table border=\"1\" class=\"dataframe\">\n",
       "  <thead>\n",
       "    <tr style=\"text-align: right;\">\n",
       "      <th></th>\n",
       "      <th>temp</th>\n",
       "      <th>value</th>\n",
       "    </tr>\n",
       "  </thead>\n",
       "  <tbody>\n",
       "    <tr>\n",
       "      <th>0</th>\n",
       "      <td>-200</td>\n",
       "      <td>5.29</td>\n",
       "    </tr>\n",
       "    <tr>\n",
       "      <th>1</th>\n",
       "      <td>-199</td>\n",
       "      <td>5.50</td>\n",
       "    </tr>\n",
       "    <tr>\n",
       "      <th>2</th>\n",
       "      <td>-198</td>\n",
       "      <td>5.70</td>\n",
       "    </tr>\n",
       "    <tr>\n",
       "      <th>3</th>\n",
       "      <td>-197</td>\n",
       "      <td>5.91</td>\n",
       "    </tr>\n",
       "    <tr>\n",
       "      <th>4</th>\n",
       "      <td>-196</td>\n",
       "      <td>6.12</td>\n",
       "    </tr>\n",
       "    <tr>\n",
       "      <th>...</th>\n",
       "      <td>...</td>\n",
       "      <td>...</td>\n",
       "    </tr>\n",
       "    <tr>\n",
       "      <th>456</th>\n",
       "      <td>256</td>\n",
       "      <td>94.80</td>\n",
       "    </tr>\n",
       "    <tr>\n",
       "      <th>457</th>\n",
       "      <td>257</td>\n",
       "      <td>94.99</td>\n",
       "    </tr>\n",
       "    <tr>\n",
       "      <th>458</th>\n",
       "      <td>258</td>\n",
       "      <td>95.19</td>\n",
       "    </tr>\n",
       "    <tr>\n",
       "      <th>459</th>\n",
       "      <td>259</td>\n",
       "      <td>95.38</td>\n",
       "    </tr>\n",
       "    <tr>\n",
       "      <th>460</th>\n",
       "      <td>260</td>\n",
       "      <td>95.58</td>\n",
       "    </tr>\n",
       "  </tbody>\n",
       "</table>\n",
       "<p>461 rows × 2 columns</p>\n",
       "</div>"
      ],
      "text/plain": [
       "     temp  value\n",
       "0    -200   5.29\n",
       "1    -199   5.50\n",
       "2    -198   5.70\n",
       "3    -197   5.91\n",
       "4    -196   6.12\n",
       "..    ...    ...\n",
       "456   256  94.80\n",
       "457   257  94.99\n",
       "458   258  95.19\n",
       "459   259  95.38\n",
       "460   260  95.58\n",
       "\n",
       "[461 rows x 2 columns]"
      ]
     },
     "execution_count": 35,
     "metadata": {},
     "output_type": "execute_result"
    }
   ],
   "source": [
    "df_cu_50"
   ]
  },
  {
   "cell_type": "code",
   "execution_count": 36,
   "id": "1e6dabdd",
   "metadata": {},
   "outputs": [],
   "source": [
    "df_cu_50.to_csv(data_dir / \"sensors_characteristics\" / \"Cu 50.csv\", index=False)"
   ]
  },
  {
   "cell_type": "code",
   "execution_count": 37,
   "id": "4593757d",
   "metadata": {},
   "outputs": [],
   "source": [
    "df_cu_100_raw = pd.DataFrame({\"temp\": df[\"Температура\"], \"value\": df[\"Cu100\"]})"
   ]
  },
  {
   "cell_type": "code",
   "execution_count": 39,
   "id": "02741960",
   "metadata": {},
   "outputs": [],
   "source": [
    "df_cu_100_raw[\"value\"] = df_cu_100_raw[\"value\"].apply(float)"
   ]
  },
  {
   "cell_type": "code",
   "execution_count": 40,
   "id": "c78db234",
   "metadata": {},
   "outputs": [],
   "source": [
    "df_cu_100 = fill_empty_temperatures(df_cu_100_raw, \"temp\", \"value\")"
   ]
  },
  {
   "cell_type": "code",
   "execution_count": 41,
   "id": "b5cb1198",
   "metadata": {},
   "outputs": [
    {
     "data": {
      "text/html": [
       "<div>\n",
       "<style scoped>\n",
       "    .dataframe tbody tr th:only-of-type {\n",
       "        vertical-align: middle;\n",
       "    }\n",
       "\n",
       "    .dataframe tbody tr th {\n",
       "        vertical-align: top;\n",
       "    }\n",
       "\n",
       "    .dataframe thead th {\n",
       "        text-align: right;\n",
       "    }\n",
       "</style>\n",
       "<table border=\"1\" class=\"dataframe\">\n",
       "  <thead>\n",
       "    <tr style=\"text-align: right;\">\n",
       "      <th></th>\n",
       "      <th>temp</th>\n",
       "      <th>value</th>\n",
       "    </tr>\n",
       "  </thead>\n",
       "  <tbody>\n",
       "    <tr>\n",
       "      <th>0</th>\n",
       "      <td>-200</td>\n",
       "      <td>10.58</td>\n",
       "    </tr>\n",
       "    <tr>\n",
       "      <th>1</th>\n",
       "      <td>-199</td>\n",
       "      <td>10.99</td>\n",
       "    </tr>\n",
       "    <tr>\n",
       "      <th>2</th>\n",
       "      <td>-198</td>\n",
       "      <td>11.41</td>\n",
       "    </tr>\n",
       "    <tr>\n",
       "      <th>3</th>\n",
       "      <td>-197</td>\n",
       "      <td>11.82</td>\n",
       "    </tr>\n",
       "    <tr>\n",
       "      <th>4</th>\n",
       "      <td>-196</td>\n",
       "      <td>12.23</td>\n",
       "    </tr>\n",
       "    <tr>\n",
       "      <th>...</th>\n",
       "      <td>...</td>\n",
       "      <td>...</td>\n",
       "    </tr>\n",
       "    <tr>\n",
       "      <th>456</th>\n",
       "      <td>256</td>\n",
       "      <td>189.60</td>\n",
       "    </tr>\n",
       "    <tr>\n",
       "      <th>457</th>\n",
       "      <td>257</td>\n",
       "      <td>189.99</td>\n",
       "    </tr>\n",
       "    <tr>\n",
       "      <th>458</th>\n",
       "      <td>258</td>\n",
       "      <td>190.38</td>\n",
       "    </tr>\n",
       "    <tr>\n",
       "      <th>459</th>\n",
       "      <td>259</td>\n",
       "      <td>190.77</td>\n",
       "    </tr>\n",
       "    <tr>\n",
       "      <th>460</th>\n",
       "      <td>260</td>\n",
       "      <td>191.16</td>\n",
       "    </tr>\n",
       "  </tbody>\n",
       "</table>\n",
       "<p>461 rows × 2 columns</p>\n",
       "</div>"
      ],
      "text/plain": [
       "     temp   value\n",
       "0    -200   10.58\n",
       "1    -199   10.99\n",
       "2    -198   11.41\n",
       "3    -197   11.82\n",
       "4    -196   12.23\n",
       "..    ...     ...\n",
       "456   256  189.60\n",
       "457   257  189.99\n",
       "458   258  190.38\n",
       "459   259  190.77\n",
       "460   260  191.16\n",
       "\n",
       "[461 rows x 2 columns]"
      ]
     },
     "execution_count": 41,
     "metadata": {},
     "output_type": "execute_result"
    }
   ],
   "source": [
    "df_cu_100"
   ]
  },
  {
   "cell_type": "code",
   "execution_count": 42,
   "id": "f8cdbe81",
   "metadata": {},
   "outputs": [],
   "source": [
    "df_cu_100.to_csv(data_dir / \"sensors_characteristics\" / \"Cu 100.csv\", index=False)"
   ]
  },
  {
   "cell_type": "code",
   "execution_count": 65,
   "id": "ffe8e5ac",
   "metadata": {},
   "outputs": [],
   "source": [
    "df = pd.read_csv(path / \"100П.csv\")"
   ]
  },
  {
   "cell_type": "code",
   "execution_count": 67,
   "id": "d1d84053",
   "metadata": {},
   "outputs": [
    {
     "data": {
      "text/plain": [
       "[<matplotlib.lines.Line2D at 0x1b5923b7b80>]"
      ]
     },
     "execution_count": 67,
     "metadata": {},
     "output_type": "execute_result"
    },
    {
     "data": {
      "image/png": "[encoded data removed]",
      "text/plain": [
       "<Figure size 432x288 with 1 Axes>"
      ]
     },
     "metadata": {
      "needs_background": "light"
     },
     "output_type": "display_data"
    }
   ],
   "source": [
    "plt.plot(df[\"temp\"].loc[100:], df[\"value\"].loc[100:])"
   ]
  },
  {
   "cell_type": "code",
   "execution_count": 56,
   "id": "2231ba0d",
   "metadata": {},
   "outputs": [],
   "source": [
    "df = pd.read_csv(path / \"Cu 50.csv\")"
   ]
  },
  {
   "cell_type": "code",
   "execution_count": 57,
   "id": "1e85845a",
   "metadata": {},
   "outputs": [
    {
     "data": {
      "text/plain": [
       "[<matplotlib.lines.Line2D at 0x1b58b748220>]"
      ]
     },
     "execution_count": 57,
     "metadata": {},
     "output_type": "execute_result"
    },
    {
     "data": {
      "image/png": "[encoded data removed]",
      "text/plain": [
       "<Figure size 432x288 with 1 Axes>"
      ]
     },
     "metadata": {
      "needs_background": "light"
     },
     "output_type": "display_data"
    }
   ],
   "source": [
    "plt.plot(df[\"temp\"], df[\"value\"])"
   ]
  },
  {
   "cell_type": "code",
   "execution_count": 63,
   "id": "d08863d8",
   "metadata": {},
   "outputs": [
    {
     "data": {
      "text/plain": [
       "temp    -260.0\n",
       "value      0.4\n",
       "Name: 0, dtype: float64"
      ]
     },
     "execution_count": 63,
     "metadata": {},
     "output_type": "execute_result"
    }
   ],
   "source": [
    "df.loc[0]"
   ]
  },
  {
   "cell_type": "code",
   "execution_count": null,
   "id": "a249a4c6",
   "metadata": {},
   "outputs": [],
   "source": []
  }
 ],
 "metadata": {
  "kernelspec": {
   "display_name": "Python 3 (ipykernel)",
   "language": "python",
   "name": "python3"
  },
  "language_info": {
   "codemirror_mode": {
    "name": "ipython",
    "version": 3
   },
   "file_extension": ".py",
   "mimetype": "text/x-python",
   "name": "python",
   "nbconvert_exporter": "python",
   "pygments_lexer": "ipython3",
   "version": "3.9.0"
  }
 },
 "nbformat": 4,
 "nbformat_minor": 5
}
